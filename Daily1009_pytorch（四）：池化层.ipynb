{
 "cells": [
  {
   "cell_type": "code",
   "execution_count": 1,
   "metadata": {
    "collapsed": true
   },
   "outputs": [],
   "source": [
    "import numpy as np\n",
    "import torch\n",
    "import torch.nn as nn\n",
    "import matplotlib.pyplot as plt\n",
    "%matplotlib inline"
   ]
  },
  {
   "cell_type": "markdown",
   "metadata": {},
   "source": [
    "- 池化层没有输入、输出通道的参数。就是说，池化前后通道不会发生变化。\n",
    "- 通常池化就是缩小图片的尺寸。"
   ]
  },
  {
   "cell_type": "code",
   "execution_count": 6,
   "metadata": {},
   "outputs": [
    {
     "data": {
      "text/plain": [
       "tensor([[[ 1.3067,  1.3067,  0.6895,  0.8300,  0.6982,  0.5993,  0.5993,\n",
       "          -0.6316,  1.0830,  1.0830,  0.6166, -0.8010,  0.7991,  2.2418,\n",
       "           2.2418,  0.7325,  0.7325,  0.3906,  0.3753,  0.4103,  1.2238,\n",
       "           1.2238,  0.6592,  0.9682]]])"
      ]
     },
     "execution_count": 6,
     "metadata": {},
     "output_type": "execute_result"
    }
   ],
   "source": [
    "#>一 最大池化\n",
    "##>1.1 一维池化\n",
    "m=nn.MaxPool1d(3,stride=2,return_indices=True)##核为3\n",
    "input=torch.randn(1,1,50)\n",
    "out=m(input)\n",
    "out[0]##由于return_indices为True，因此返回一个tuple：一个元素是池化后的值，第二个元素是最大池化的坐标"
   ]
  },
  {
   "cell_type": "code",
   "execution_count": 7,
   "metadata": {},
   "outputs": [
    {
     "data": {
      "text/plain": [
       "tensor([[[ 2,  2,  6,  7,  9, 12, 12, 16, 18, 18, 21, 22, 26, 28, 28, 32, 32,\n",
       "          35, 37, 39, 42, 42, 45, 47]]])"
      ]
     },
     "execution_count": 7,
     "metadata": {},
     "output_type": "execute_result"
    }
   ],
   "source": [
    "out[1]"
   ]
  },
  {
   "cell_type": "code",
   "execution_count": 8,
   "metadata": {},
   "outputs": [
    {
     "data": {
      "text/plain": [
       "tensor([[[ 0.5033,  0.0907,  1.3067, -0.8518, -0.4917, -0.0422,  0.6895,\n",
       "           0.8300,  0.3823,  0.6982, -0.1970, -0.3829,  0.5993, -0.8318,\n",
       "          -1.6318, -0.7554, -0.6316, -1.6443,  1.0830, -0.9699,  0.3147,\n",
       "           0.6166, -0.8010, -1.5187, -0.8879,  0.2839,  0.7991, -0.3653,\n",
       "           2.2418,  1.1889, -0.2536, -0.2034,  0.7325, -0.9748,  0.1103,\n",
       "           0.3906, -0.0236,  0.3753, -0.4997,  0.4103, -0.6522,  0.8339,\n",
       "           1.2238, -1.0287,  0.0002,  0.6592,  0.0311,  0.9682,  0.7490,\n",
       "          -2.0412]]])"
      ]
     },
     "execution_count": 8,
     "metadata": {},
     "output_type": "execute_result"
    }
   ],
   "source": [
    "input"
   ]
  },
  {
   "cell_type": "code",
   "execution_count": 9,
   "metadata": {},
   "outputs": [
    {
     "data": {
      "text/plain": [
       "torch.Size([20, 16, 24, 31])"
      ]
     },
     "execution_count": 9,
     "metadata": {},
     "output_type": "execute_result"
    }
   ],
   "source": [
    "##>1.2 二维池化\n",
    "m=nn.MaxPool2d((3,2),stride=(2,1))\n",
    "input=torch.randn(20,16,50,32)\n",
    "out=m(input)\n",
    "out.shape"
   ]
  },
  {
   "cell_type": "code",
   "execution_count": 10,
   "metadata": {},
   "outputs": [
    {
     "data": {
      "text/plain": [
       "torch.Size([20, 16, 24, 43, 15])"
      ]
     },
     "execution_count": 10,
     "metadata": {},
     "output_type": "execute_result"
    }
   ],
   "source": [
    "##>1.3 三维池化\n",
    "m=nn.MaxPool3d((3,2,2),stride=(2,1,2))\n",
    "input=torch.randn(20,16,50,44,31)\n",
    "out=m(input)\n",
    "out.shape"
   ]
  },
  {
   "cell_type": "markdown",
   "metadata": {},
   "source": [
    "- 逆池化相当于把缩小的图片尺寸恢复为原来的尺寸\n",
    "- 逆最大池化只能恢复最大的元素，其他的元素均为0"
   ]
  },
  {
   "cell_type": "code",
   "execution_count": 36,
   "metadata": {},
   "outputs": [
    {
     "data": {
      "text/plain": [
       "tensor([[[1., 2., 3., 4., 5., 6., 7., 8.]]])"
      ]
     },
     "execution_count": 36,
     "metadata": {},
     "output_type": "execute_result"
    }
   ],
   "source": [
    "#>2. 逆最大池化\n",
    "##>2.1 一维逆最大池化\n",
    "pool=nn.MaxPool1d(2,stride=2,return_indices=True)\n",
    "unpool=nn.MaxUnpool1d(2,stride=2)\n",
    "input=torch.arange(1,9,dtype=torch.float).reshape(-1,8).unsqueeze(1)\n",
    "input"
   ]
  },
  {
   "cell_type": "code",
   "execution_count": 38,
   "metadata": {},
   "outputs": [
    {
     "data": {
      "text/plain": [
       "tensor([[[1, 3, 5, 7]]])"
      ]
     },
     "execution_count": 38,
     "metadata": {},
     "output_type": "execute_result"
    }
   ],
   "source": [
    "out,indices=pool(input)\n",
    "indices"
   ]
  },
  {
   "cell_type": "code",
   "execution_count": 39,
   "metadata": {},
   "outputs": [
    {
     "data": {
      "text/plain": [
       "tensor([[[0., 2., 0., 4., 0., 6., 0., 8.]]])"
      ]
     },
     "execution_count": 39,
     "metadata": {},
     "output_type": "execute_result"
    }
   ],
   "source": [
    "unpool(out,indices)"
   ]
  },
  {
   "cell_type": "code",
   "execution_count": 41,
   "metadata": {},
   "outputs": [],
   "source": [
    "input=torch.arange(1,10,dtype=torch.float).reshape(-1,9).unsqueeze(1)##注意input的size是9\n",
    "out,indices=pool(input)"
   ]
  },
  {
   "cell_type": "code",
   "execution_count": 42,
   "metadata": {},
   "outputs": [
    {
     "data": {
      "text/plain": [
       "tensor([[[0., 2., 0., 4., 0., 6., 0., 8.]]])"
      ]
     },
     "execution_count": 42,
     "metadata": {},
     "output_type": "execute_result"
    }
   ],
   "source": [
    "unpool(out,indices)##input的size是9，这里没有设置output_size，因此unpool后，大小与原先的并不一致"
   ]
  },
  {
   "cell_type": "code",
   "execution_count": 43,
   "metadata": {},
   "outputs": [
    {
     "data": {
      "text/plain": [
       "tensor([[[0., 2., 0., 4., 0., 6., 0., 8., 0.]]])"
      ]
     },
     "execution_count": 43,
     "metadata": {},
     "output_type": "execute_result"
    }
   ],
   "source": [
    "unpool(out,indices,output_size=input.size())##这里设置了output_size与input.size一样大，因此unpool后，尺寸与原先的一样"
   ]
  },
  {
   "cell_type": "code",
   "execution_count": 46,
   "metadata": {},
   "outputs": [
    {
     "data": {
      "text/plain": [
       "tensor([[[[ 1.,  2.,  3.,  4.],\n",
       "          [ 5.,  6.,  7.,  8.],\n",
       "          [ 9., 10., 11., 12.],\n",
       "          [13., 14., 15., 16.]]]])"
      ]
     },
     "execution_count": 46,
     "metadata": {},
     "output_type": "execute_result"
    }
   ],
   "source": [
    "##>2.2 二维逆最大池化\n",
    "pool=nn.MaxPool2d(2,stride=2,return_indices=True)\n",
    "unpool=nn.MaxUnpool2d(2,stride=2)\n",
    "input=torch.arange(1,17,dtype=torch.float).reshape(1,1,4,4)\n",
    "input"
   ]
  },
  {
   "cell_type": "code",
   "execution_count": 49,
   "metadata": {},
   "outputs": [
    {
     "data": {
      "text/plain": [
       "tensor([[[[ 6.,  8.],\n",
       "          [14., 16.]]]])"
      ]
     },
     "execution_count": 49,
     "metadata": {},
     "output_type": "execute_result"
    }
   ],
   "source": [
    "out,indices=pool(input)\n",
    "out"
   ]
  },
  {
   "cell_type": "code",
   "execution_count": 50,
   "metadata": {},
   "outputs": [
    {
     "data": {
      "text/plain": [
       "tensor([[[[ 0.,  0.,  0.,  0.],\n",
       "          [ 0.,  6.,  0.,  8.],\n",
       "          [ 0.,  0.,  0.,  0.],\n",
       "          [ 0., 14.,  0., 16.]]]])"
      ]
     },
     "execution_count": 50,
     "metadata": {},
     "output_type": "execute_result"
    }
   ],
   "source": [
    "unpool(out,indices)##恢复为原先的形状，除最大元素外，其他元素为 0"
   ]
  },
  {
   "cell_type": "code",
   "execution_count": 51,
   "metadata": {},
   "outputs": [
    {
     "data": {
      "text/plain": [
       "torch.Size([20, 16, 24, 31])"
      ]
     },
     "execution_count": 51,
     "metadata": {},
     "output_type": "execute_result"
    }
   ],
   "source": [
    "#>3. 平均池化\n",
    "##>3.1 二维平均池化\n",
    "m=nn.AvgPool2d((3,2),stride=(2,1))\n",
    "input=torch.randn(20,16,50,32)\n",
    "out=m(input)\n",
    "out.shape"
   ]
  },
  {
   "cell_type": "code",
   "execution_count": 54,
   "metadata": {},
   "outputs": [
    {
     "data": {
      "text/plain": [
       "tensor([[[2.2361, 5.0000]]])"
      ]
     },
     "execution_count": 54,
     "metadata": {},
     "output_type": "execute_result"
    }
   ],
   "source": [
    "#>4. LP范数池化\n",
    "input=torch.arange(1,5,dtype=torch.float).reshape(1,1,4)\n",
    "pool=nn.LPPool1d(2,2)##取2-范数，核为2，其他参数默认\n",
    "out=pool(input)\n",
    "out"
   ]
  },
  {
   "cell_type": "code",
   "execution_count": null,
   "metadata": {
    "collapsed": true
   },
   "outputs": [],
   "source": [
    "#>5. 自适应最大池化"
   ]
  },
  {
   "cell_type": "markdown",
   "metadata": {},
   "source": [
    "- 自适应最大池化只需要指定输出的目标尺寸即可，其他参数自动计算"
   ]
  },
  {
   "cell_type": "code",
   "execution_count": 55,
   "metadata": {},
   "outputs": [
    {
     "data": {
      "text/plain": [
       "torch.Size([1, 64, 5])"
      ]
     },
     "execution_count": 55,
     "metadata": {},
     "output_type": "execute_result"
    }
   ],
   "source": [
    "##>5.1 一维自适应最大池化\n",
    "input=torch.randn(1,64,8)\n",
    "m=nn.AdaptiveMaxPool1d(5)#目标尺寸为5\n",
    "out=m(input)\n",
    "out.shape"
   ]
  },
  {
   "cell_type": "code",
   "execution_count": 56,
   "metadata": {},
   "outputs": [
    {
     "data": {
      "text/plain": [
       "torch.Size([1, 34, 5, 7])"
      ]
     },
     "execution_count": 56,
     "metadata": {},
     "output_type": "execute_result"
    }
   ],
   "source": [
    "##>5.2 二维自适应最大池化\n",
    "input=torch.randn(1,34,8,9)\n",
    "m=nn.AdaptiveMaxPool2d((5,7))#目标尺寸：H=5,W=7\n",
    "out=m(input)\n",
    "out.shape"
   ]
  },
  {
   "cell_type": "code",
   "execution_count": 57,
   "metadata": {},
   "outputs": [
    {
     "data": {
      "text/plain": [
       "torch.Size([1, 34, 7, 7])"
      ]
     },
     "execution_count": 57,
     "metadata": {},
     "output_type": "execute_result"
    }
   ],
   "source": [
    "m=nn.AdaptiveMaxPool2d(7)##目标输出为方阵\n",
    "out=m(input)\n",
    "out.shape"
   ]
  },
  {
   "cell_type": "code",
   "execution_count": 59,
   "metadata": {},
   "outputs": [
    {
     "data": {
      "text/plain": [
       "torch.Size([1, 34, 8, 7])"
      ]
     },
     "execution_count": 59,
     "metadata": {},
     "output_type": "execute_result"
    }
   ],
   "source": [
    "m=nn.AdaptiveAvgPool2d((None,7))##可以只指定一个维度的尺寸\n",
    "out=m(input)\n",
    "out.shape"
   ]
  },
  {
   "cell_type": "code",
   "execution_count": 60,
   "metadata": {},
   "outputs": [
    {
     "data": {
      "text/plain": [
       "torch.Size([1, 34, 5, 7])"
      ]
     },
     "execution_count": 60,
     "metadata": {},
     "output_type": "execute_result"
    }
   ],
   "source": [
    "#>6. 自适应平均池化\n",
    "##>6.1 二维自适应平均池化\n",
    "m=nn.AdaptiveAvgPool2d((5,7))\n",
    "out=m(input)\n",
    "out.shape"
   ]
  },
  {
   "cell_type": "code",
   "execution_count": 63,
   "metadata": {},
   "outputs": [
    {
     "data": {
      "text/plain": [
       "tensor([[[ 0.,  1.,  2.,  3.],\n",
       "         [ 4.,  5.,  6.,  7.],\n",
       "         [ 8.,  9., 10., 11.],\n",
       "         [12., 13., 14., 15.]]])"
      ]
     },
     "execution_count": 63,
     "metadata": {},
     "output_type": "execute_result"
    }
   ],
   "source": [
    "#############test###########\n",
    "m=nn.Conv1d(4,4,2,stride=2)\n",
    "input=torch.arange(16,dtype=torch.float).reshape(1,4,4)\n",
    "input"
   ]
  },
  {
   "cell_type": "code",
   "execution_count": 65,
   "metadata": {},
   "outputs": [
    {
     "data": {
      "text/plain": [
       "torch.Size([1, 4, 2])"
      ]
     },
     "execution_count": 65,
     "metadata": {},
     "output_type": "execute_result"
    }
   ],
   "source": [
    "out=m(input)\n",
    "out.shape"
   ]
  },
  {
   "cell_type": "code",
   "execution_count": 68,
   "metadata": {},
   "outputs": [
    {
     "data": {
      "text/plain": [
       "tensor([[[ -1.7420,  -2.7894],\n",
       "         [ -8.2981, -10.9620],\n",
       "         [  5.0127,   5.1771],\n",
       "         [  2.8058,   2.2444]]], grad_fn=<SqueezeBackward1>)"
      ]
     },
     "execution_count": 68,
     "metadata": {},
     "output_type": "execute_result"
    }
   ],
   "source": [
    "out"
   ]
  },
  {
   "cell_type": "code",
   "execution_count": null,
   "metadata": {
    "collapsed": true
   },
   "outputs": [],
   "source": []
  }
 ],
 "metadata": {
  "kernelspec": {
   "display_name": "Python 3",
   "language": "python",
   "name": "python3"
  },
  "language_info": {
   "codemirror_mode": {
    "name": "ipython",
    "version": 3
   },
   "file_extension": ".py",
   "mimetype": "text/x-python",
   "name": "python",
   "nbconvert_exporter": "python",
   "pygments_lexer": "ipython3",
   "version": "3.6.1"
  }
 },
 "nbformat": 4,
 "nbformat_minor": 2
}
