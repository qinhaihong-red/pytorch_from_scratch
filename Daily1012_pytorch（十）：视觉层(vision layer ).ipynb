{
 "cells": [
  {
   "cell_type": "code",
   "execution_count": 1,
   "metadata": {
    "collapsed": true
   },
   "outputs": [],
   "source": [
    "import numpy as np\n",
    "import torch\n",
    "import torch.nn as nn\n",
    "import matplotlib.pyplot as plt\n",
    "%matplotlib inline"
   ]
  },
  {
   "cell_type": "markdown",
   "metadata": {},
   "source": [
    "## 视觉层"
   ]
  },
  {
   "cell_type": "code",
   "execution_count": 2,
   "metadata": {},
   "outputs": [
    {
     "data": {
      "text/plain": [
       "torch.Size([1, 1, 12, 12])"
      ]
     },
     "execution_count": 2,
     "metadata": {},
     "output_type": "execute_result"
    }
   ],
   "source": [
    "##>1. 像素混淆 pixelshuffle\n",
    "##把一个形状为[∗,(r^2)*C,H,W]的张量，重排为[∗,C,r*H,r*W]\n",
    "input=torch.arange(144).reshape(1,9,4,4)\n",
    "ps=nn.PixelShuffle(3)##r=3\n",
    "out=ps(input)\n",
    "out.shape"
   ]
  },
  {
   "cell_type": "code",
   "execution_count": null,
   "metadata": {
    "collapsed": true
   },
   "outputs": [],
   "source": [
    "##>2. upsample上采样"
   ]
  },
  {
   "cell_type": "markdown",
   "metadata": {},
   "source": [
    "上采样，也称为图像插值，一般用来放大图片尺寸。\n",
    "这里的采样模式（mode）如下：\n",
    "- nearest neighbor，即最邻近：复制邻近值进行放大，适用3d,4d tensor\n",
    "- linear，bilinear，即线性采样和双线性采样：适用于3d，4d tensor\n",
    "- trilinear，三线性采样：适用于5d tensor\n",
    "\n",
    "__注意:nn.Upsample类已经废置，适用nn.functional.interpolate进行代替__"
   ]
  },
  {
   "cell_type": "code",
   "execution_count": 3,
   "metadata": {},
   "outputs": [
    {
     "data": {
      "text/plain": [
       "tensor([[[[1., 2.],\n",
       "          [3., 4.]]]])"
      ]
     },
     "execution_count": 3,
     "metadata": {},
     "output_type": "execute_result"
    }
   ],
   "source": [
    "##>2.1 Upsample\n",
    "input=torch.arange(1,5).reshape(1,1,2,2).float()\n",
    "input"
   ]
  },
  {
   "cell_type": "code",
   "execution_count": 4,
   "metadata": {},
   "outputs": [
    {
     "name": "stderr",
     "output_type": "stream",
     "text": [
      "D:\\Anaconda3-4.4.0\\lib\\site-packages\\torch\\nn\\modules\\upsampling.py:122: UserWarning: nn.Upsampling is deprecated. Use nn.functional.interpolate instead.\n",
      "  warnings.warn(\"nn.Upsampling is deprecated. Use nn.functional.interpolate instead.\")\n"
     ]
    },
    {
     "data": {
      "text/plain": [
       "tensor([[[[1., 1., 2., 2.],\n",
       "          [1., 1., 2., 2.],\n",
       "          [3., 3., 4., 4.],\n",
       "          [3., 3., 4., 4.]]]])"
      ]
     },
     "execution_count": 4,
     "metadata": {},
     "output_type": "execute_result"
    }
   ],
   "source": [
    "m=nn.Upsample(scale_factor=2,mode='nearest')\n",
    "m(input)"
   ]
  },
  {
   "cell_type": "code",
   "execution_count": 7,
   "metadata": {},
   "outputs": [
    {
     "data": {
      "text/plain": [
       "tensor([[[[1., 1., 2., 2.],\n",
       "          [1., 1., 2., 2.],\n",
       "          [3., 3., 4., 4.],\n",
       "          [3., 3., 4., 4.]]]])"
      ]
     },
     "execution_count": 7,
     "metadata": {},
     "output_type": "execute_result"
    }
   ],
   "source": [
    "##使用functional.interpolate进行代替\n",
    "import torch.nn.functional as F\n",
    "F.interpolate(input,scale_factor=2,mode='nearest')"
   ]
  },
  {
   "cell_type": "code",
   "execution_count": 9,
   "metadata": {},
   "outputs": [
    {
     "data": {
      "text/plain": [
       "tensor([[[[1.0000, 1.2500, 1.7500, 2.0000],\n",
       "          [1.5000, 1.7500, 2.2500, 2.5000],\n",
       "          [2.5000, 2.7500, 3.2500, 3.5000],\n",
       "          [3.0000, 3.2500, 3.7500, 4.0000]]]])"
      ]
     },
     "execution_count": 9,
     "metadata": {},
     "output_type": "execute_result"
    }
   ],
   "source": [
    "F.interpolate(input,scale_factor=2,mode='bilinear',align_corners=False)"
   ]
  },
  {
   "cell_type": "code",
   "execution_count": 10,
   "metadata": {},
   "outputs": [
    {
     "data": {
      "text/plain": [
       "tensor([[[[1.0000, 1.3333, 1.6667, 2.0000],\n",
       "          [1.6667, 2.0000, 2.3333, 2.6667],\n",
       "          [2.3333, 2.6667, 3.0000, 3.3333],\n",
       "          [3.0000, 3.3333, 3.6667, 4.0000]]]])"
      ]
     },
     "execution_count": 10,
     "metadata": {},
     "output_type": "execute_result"
    }
   ],
   "source": [
    "F.interpolate(input,scale_factor=2,mode='bilinear',align_corners=True)"
   ]
  },
  {
   "cell_type": "code",
   "execution_count": 11,
   "metadata": {},
   "outputs": [
    {
     "data": {
      "text/plain": [
       "tensor([[[[1., 2., 0.],\n",
       "          [3., 4., 0.],\n",
       "          [0., 0., 0.]]]])"
      ]
     },
     "execution_count": 11,
     "metadata": {},
     "output_type": "execute_result"
    }
   ],
   "source": [
    "input_3=torch.zeros(3,3).reshape(1,1,3,3).float()\n",
    "input_3[:,:,:2,:2].copy_(input)\n",
    "input_3"
   ]
  },
  {
   "cell_type": "code",
   "execution_count": 12,
   "metadata": {},
   "outputs": [
    {
     "data": {
      "text/plain": [
       "tensor([[[[1.0000, 1.2500, 1.7500, 1.5000, 0.5000, 0.0000],\n",
       "          [1.5000, 1.7500, 2.2500, 1.8750, 0.6250, 0.0000],\n",
       "          [2.5000, 2.7500, 3.2500, 2.6250, 0.8750, 0.0000],\n",
       "          [2.2500, 2.4375, 2.8125, 2.2500, 0.7500, 0.0000],\n",
       "          [0.7500, 0.8125, 0.9375, 0.7500, 0.2500, 0.0000],\n",
       "          [0.0000, 0.0000, 0.0000, 0.0000, 0.0000, 0.0000]]]])"
      ]
     },
     "execution_count": 12,
     "metadata": {},
     "output_type": "execute_result"
    }
   ],
   "source": [
    "F.interpolate(input_3,scale_factor=2,mode='bilinear',align_corners=False)"
   ]
  },
  {
   "cell_type": "code",
   "execution_count": 13,
   "metadata": {},
   "outputs": [
    {
     "data": {
      "text/plain": [
       "tensor([[[[1.0000, 1.4000, 1.8000, 1.6000, 0.8000, 0.0000],\n",
       "          [1.8000, 2.2000, 2.6000, 2.2400, 1.1200, 0.0000],\n",
       "          [2.6000, 3.0000, 3.4000, 2.8800, 1.4400, 0.0000],\n",
       "          [2.4000, 2.7200, 3.0400, 2.5600, 1.2800, 0.0000],\n",
       "          [1.2000, 1.3600, 1.5200, 1.2800, 0.6400, 0.0000],\n",
       "          [0.0000, 0.0000, 0.0000, 0.0000, 0.0000, 0.0000]]]])"
      ]
     },
     "execution_count": 13,
     "metadata": {},
     "output_type": "execute_result"
    }
   ],
   "source": [
    "F.interpolate(input_3,scale_factor=2,mode='bilinear',align_corners=True)"
   ]
  },
  {
   "cell_type": "code",
   "execution_count": null,
   "metadata": {
    "collapsed": true
   },
   "outputs": [],
   "source": [
    "##>2.2 其他的 UpsamplingNearest2d 和 UpsamplingBilinear2d，都可以用functional.interpolate代替"
   ]
  }
 ],
 "metadata": {
  "kernelspec": {
   "display_name": "Python 3",
   "language": "python",
   "name": "python3"
  },
  "language_info": {
   "codemirror_mode": {
    "name": "ipython",
    "version": 3
   },
   "file_extension": ".py",
   "mimetype": "text/x-python",
   "name": "python",
   "nbconvert_exporter": "python",
   "pygments_lexer": "ipython3",
   "version": "3.6.1"
  }
 },
 "nbformat": 4,
 "nbformat_minor": 2
}
