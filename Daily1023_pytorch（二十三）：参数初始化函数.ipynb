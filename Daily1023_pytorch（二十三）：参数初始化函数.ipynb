{
 "cells": [
  {
   "cell_type": "code",
   "execution_count": 1,
   "metadata": {
    "collapsed": true
   },
   "outputs": [],
   "source": [
    "import numpy as np\n",
    "import torch\n",
    "import torch.nn as nn\n",
    "import torch.nn.functional as F\n",
    "import matplotlib.pyplot as plt\n",
    "import torch.utils.data as data\n",
    "import torchvision as tv\n",
    "import torchvision.transforms as tf\n",
    "import torchvision.models as mod\n",
    "from PIL import Image\n",
    "%matplotlib inline"
   ]
  },
  {
   "cell_type": "markdown",
   "metadata": {},
   "source": [
    "# torch.nn.init"
   ]
  },
  {
   "cell_type": "markdown",
   "metadata": {},
   "source": [
    "### torch.nn.init.calculate_gain(nonlinearity, param=None) : 为给定的非线性函数，返回推荐的增加值. 非线性函数可以是：\n",
    "- Linear/Identity\t1\n",
    "- Conv{1,2,3}D      1\n",
    "- Sigmoid           1\n",
    "- Tanh             5/3\n",
    "- ReLU             sqrt(2)\n",
    "\n",
    "\n",
    "第一列是非线性函数名，第二列是增加的值."
   ]
  },
  {
   "cell_type": "code",
   "execution_count": 3,
   "metadata": {},
   "outputs": [
    {
     "data": {
      "text/plain": [
       "1.4142135623730951"
      ]
     },
     "execution_count": 3,
     "metadata": {},
     "output_type": "execute_result"
    }
   ],
   "source": [
    "gain=nn.init.calculate_gain('relu')##注意参数小写\n",
    "gain"
   ]
  },
  {
   "cell_type": "markdown",
   "metadata": {},
   "source": [
    "### torch.nn.init.uniform\\_(tensor, a=0, b=1)：以均匀分布初始化输入张量."
   ]
  },
  {
   "cell_type": "code",
   "execution_count": 4,
   "metadata": {},
   "outputs": [
    {
     "data": {
      "text/plain": [
       "tensor([[0.5985, 0.2696, 0.0361],\n",
       "        [0.7637, 0.7353, 0.3277]])"
      ]
     },
     "execution_count": 4,
     "metadata": {},
     "output_type": "execute_result"
    }
   ],
   "source": [
    "X=torch.empty(2,3)\n",
    "nn.init.uniform_(X)\n",
    "X"
   ]
  },
  {
   "cell_type": "markdown",
   "metadata": {},
   "source": [
    "### torch.nn.init.normal\\_(tensor, mean=0, std=1)：以正太分布初始化输入张量."
   ]
  },
  {
   "cell_type": "code",
   "execution_count": 5,
   "metadata": {},
   "outputs": [
    {
     "data": {
      "text/plain": [
       "tensor([[-1.4623,  0.1677,  0.4717],\n",
       "        [ 0.5376, -1.2502, -2.0507]])"
      ]
     },
     "execution_count": 5,
     "metadata": {},
     "output_type": "execute_result"
    }
   ],
   "source": [
    "nn.init.normal_(X)"
   ]
  },
  {
   "cell_type": "markdown",
   "metadata": {},
   "source": [
    "### torch.nn.init.constant\\_(tensor, val): 以常量初始化输入张量."
   ]
  },
  {
   "cell_type": "code",
   "execution_count": 6,
   "metadata": {},
   "outputs": [
    {
     "data": {
      "text/plain": [
       "tensor([[2., 2., 2.],\n",
       "        [2., 2., 2.]])"
      ]
     },
     "execution_count": 6,
     "metadata": {},
     "output_type": "execute_result"
    }
   ],
   "source": [
    "nn.init.constant_(X,2)\n",
    "X"
   ]
  },
  {
   "cell_type": "markdown",
   "metadata": {},
   "source": [
    "### torch.nn.init.eye\\_(tensor):以恒等矩阵初始化输入的二维张量. 在线性层保持输入的恒等性，在该层使得尽量多的输入保持恒等."
   ]
  },
  {
   "cell_type": "code",
   "execution_count": 7,
   "metadata": {},
   "outputs": [
    {
     "data": {
      "text/plain": [
       "tensor([[1., 0., 0.],\n",
       "        [0., 1., 0.]])"
      ]
     },
     "execution_count": 7,
     "metadata": {},
     "output_type": "execute_result"
    }
   ],
   "source": [
    "#即使非方阵，也可调用\n",
    "nn.init.eye_(X)\n",
    "X"
   ]
  },
  {
   "cell_type": "code",
   "execution_count": 8,
   "metadata": {},
   "outputs": [
    {
     "data": {
      "text/plain": [
       "tensor([[1., 0.],\n",
       "        [0., 1.],\n",
       "        [0., 0.]])"
      ]
     },
     "execution_count": 8,
     "metadata": {},
     "output_type": "execute_result"
    }
   ],
   "source": [
    "X=X.reshape(3,2)\n",
    "nn.init.eye_(X)\n",
    "X"
   ]
  },
  {
   "cell_type": "markdown",
   "metadata": {},
   "source": [
    "### torch.nn.init.dirac_(tensor):以 Dirac-delta 函数对3、4、5维张量进行初始化. 保持在卷积层的恒等性，在该层使得尽量多的输入保持恒等."
   ]
  },
  {
   "cell_type": "code",
   "execution_count": 9,
   "metadata": {},
   "outputs": [
    {
     "data": {
      "text/plain": [
       "tensor([[[0., 0., 1., 0.],\n",
       "         [0., 0., 0., 0.],\n",
       "         [0., 0., 0., 0.]],\n",
       "\n",
       "        [[0., 0., 0., 0.],\n",
       "         [0., 0., 1., 0.],\n",
       "         [0., 0., 0., 0.]]])"
      ]
     },
     "execution_count": 9,
     "metadata": {},
     "output_type": "execute_result"
    }
   ],
   "source": [
    "X=torch.empty(2,3,4)\n",
    "nn.init.dirac_(X)\n",
    "X"
   ]
  },
  {
   "cell_type": "markdown",
   "metadata": {},
   "source": [
    "### torch.nn.init.xavier\\_uniform\\_(tensor, gain=1): 根据 “Understanding the difficulty of training deep feedforward neural networks”中描述的方法，使用均匀分布U(-a,a)为输入张量进行初始化.gain值是上面介绍的calculate_gain函数，是对a的缩放系数."
   ]
  },
  {
   "cell_type": "code",
   "execution_count": 11,
   "metadata": {},
   "outputs": [
    {
     "data": {
      "text/plain": [
       "tensor([[-0.5382,  0.1625,  0.3651],\n",
       "        [-0.8799,  1.3694, -0.1203]])"
      ]
     },
     "execution_count": 11,
     "metadata": {},
     "output_type": "execute_result"
    }
   ],
   "source": [
    "X=torch.empty(2,3)\n",
    "nn.init.xavier_uniform_(X,gain=nn.init.calculate_gain('relu'))\n",
    "X"
   ]
  },
  {
   "cell_type": "markdown",
   "metadata": {},
   "source": [
    "### torch.nn.init.xavier\\_normal\\_(tensor, gain=1)：根据如上描述的方法，使用正太分布N(0,std)为输入变量进行初始化. gain值如上述，是std的缩放系数."
   ]
  },
  {
   "cell_type": "code",
   "execution_count": 12,
   "metadata": {},
   "outputs": [
    {
     "data": {
      "text/plain": [
       "tensor([[-0.8178, -0.1211,  0.9286],\n",
       "        [ 0.1067,  0.9894, -1.3154]])"
      ]
     },
     "execution_count": 12,
     "metadata": {},
     "output_type": "execute_result"
    }
   ],
   "source": [
    "nn.init.xavier_normal_(X,gain=nn.init.calculate_gain('sigmoid'))\n",
    "X"
   ]
  },
  {
   "cell_type": "markdown",
   "metadata": {},
   "source": [
    "### torch.nn.init.kaiming\\_uniform\\_(tensor, a=0, mode='fan_in', nonlinearity='leaky_relu'): 使用均匀分布U(-bound,bound)为输入张量进行初始化，系数影响bound值.\n",
    "见文档： https://pytorch.org/docs/stable/nn.html#torch.nn.init.kaiming_uniform_"
   ]
  },
  {
   "cell_type": "code",
   "execution_count": 13,
   "metadata": {},
   "outputs": [
    {
     "data": {
      "text/plain": [
       "tensor([[-0.2866,  0.6387,  0.1421],\n",
       "        [-0.7327,  0.1454,  0.3882]])"
      ]
     },
     "execution_count": 13,
     "metadata": {},
     "output_type": "execute_result"
    }
   ],
   "source": [
    "nn.init.kaiming_uniform_(X)\n",
    "X"
   ]
  },
  {
   "cell_type": "markdown",
   "metadata": {},
   "source": [
    "### torch.nn.init.kaiming\\_normal\\_(tensor, a=0, mode='fan_in', nonlinearity='leaky_relu')：使用正太分布为输入张量做初始化. \n",
    "\n",
    "见文档：https://pytorch.org/docs/stable/nn.html#torch.nn.init.kaiming_normal_"
   ]
  },
  {
   "cell_type": "code",
   "execution_count": 14,
   "metadata": {},
   "outputs": [
    {
     "data": {
      "text/plain": [
       "tensor([[-0.5731, -0.0047, -0.1785],\n",
       "        [ 1.5102,  0.8333,  1.3601]])"
      ]
     },
     "execution_count": 14,
     "metadata": {},
     "output_type": "execute_result"
    }
   ],
   "source": [
    "nn.init.kaiming_normal_(X)\n",
    "X"
   ]
  },
  {
   "cell_type": "markdown",
   "metadata": {},
   "source": [
    "### torch.nn.init.orthogonal\\_(tensor, gain=1): 使用半正交矩阵为输入张量进行初始化.\n",
    "\n",
    "见:https://pytorch.org/docs/stable/nn.html#torch.nn.init.orthogonal_"
   ]
  },
  {
   "cell_type": "code",
   "execution_count": 15,
   "metadata": {},
   "outputs": [
    {
     "data": {
      "text/plain": [
       "tensor([[ 0.5613, -0.0461,  0.8263],\n",
       "        [-0.0056,  0.9982,  0.0594]])"
      ]
     },
     "execution_count": 15,
     "metadata": {},
     "output_type": "execute_result"
    }
   ],
   "source": [
    "nn.init.orthogonal_(X)\n",
    "X"
   ]
  },
  {
   "cell_type": "markdown",
   "metadata": {},
   "source": [
    "### torch.nn.init.sparse\\_(tensor, sparsity, std=0.01): 把输入的二维张量初始化为稀疏矩阵，非0元素将从N(0,std)中采样.\n",
    "\n",
    "见：https://pytorch.org/docs/stable/nn.html#torch.nn.init.sparse_"
   ]
  },
  {
   "cell_type": "code",
   "execution_count": 16,
   "metadata": {},
   "outputs": [
    {
     "data": {
      "text/plain": [
       "tensor([[ 0.0000,  0.0178, -0.0031],\n",
       "        [-0.0053,  0.0000,  0.0000]])"
      ]
     },
     "execution_count": 16,
     "metadata": {},
     "output_type": "execute_result"
    }
   ],
   "source": [
    "nn.init.sparse_(X,sparsity=0.5)\n",
    "X"
   ]
  },
  {
   "cell_type": "code",
   "execution_count": null,
   "metadata": {
    "collapsed": true
   },
   "outputs": [],
   "source": []
  }
 ],
 "metadata": {
  "kernelspec": {
   "display_name": "Python 3",
   "language": "python",
   "name": "python3"
  },
  "language_info": {
   "codemirror_mode": {
    "name": "ipython",
    "version": 3
   },
   "file_extension": ".py",
   "mimetype": "text/x-python",
   "name": "python",
   "nbconvert_exporter": "python",
   "pygments_lexer": "ipython3",
   "version": "3.6.1"
  }
 },
 "nbformat": 4,
 "nbformat_minor": 2
}
