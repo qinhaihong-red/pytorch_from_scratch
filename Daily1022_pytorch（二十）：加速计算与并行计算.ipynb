{
 "cells": [
  {
   "cell_type": "markdown",
   "metadata": {},
   "source": [
    "## 1.使用CUDA进行加速计算\n",
    "\n",
    "把张量的分配与计算，在GPU上进行，以提高计算速度.\n",
    "\n",
    "见：https://pytorch.org/docs/stable/notes/cuda.html#"
   ]
  },
  {
   "cell_type": "markdown",
   "metadata": {},
   "source": [
    "## 2.使用多GPU进行并行计算\n",
    "\n",
    "在模块层面，使用多GPU，通过切分输入数据，实现并行计算.\n",
    "\n",
    "见:\n",
    "\n",
    "https://pytorch.org/docs/stable/notes/cuda.html#use-nn-dataparallel-instead-of-multiprocessing\n",
    "\n",
    "\n",
    "https://pytorch.org/docs/stable/nn.html#dataparallel-layers-multi-gpu-distributed\n",
    "\n",
    "\n",
    "以及关于数据并行和计算并行的论文：https://arxiv.org/abs/1404.5997"
   ]
  },
  {
   "cell_type": "markdown",
   "metadata": {},
   "source": [
    "## 3.Pytorch的CPU上的多进程\n",
    "\n",
    "见：\n",
    "\n",
    "https://pytorch.org/docs/stable/notes/multiprocessing.html#multiprocessing-best-practices\n",
    "\n",
    "\n",
    "https://pytorch.org/docs/stable/multiprocessing.html#module-torch.multiprocessing"
   ]
  },
  {
   "cell_type": "code",
   "execution_count": null,
   "metadata": {
    "collapsed": true
   },
   "outputs": [],
   "source": []
  }
 ],
 "metadata": {
  "kernelspec": {
   "display_name": "Python 3",
   "language": "python",
   "name": "python3"
  },
  "language_info": {
   "codemirror_mode": {
    "name": "ipython",
    "version": 3
   },
   "file_extension": ".py",
   "mimetype": "text/x-python",
   "name": "python",
   "nbconvert_exporter": "python",
   "pygments_lexer": "ipython3",
   "version": "3.6.1"
  }
 },
 "nbformat": 4,
 "nbformat_minor": 2
}
