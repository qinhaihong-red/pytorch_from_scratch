{
 "cells": [
  {
   "cell_type": "markdown",
   "metadata": {},
   "source": [
    "### padding层就是给输入数据的边界做一定数量的扩充，以进行卷积和池化\n",
    "有以下分类：\n",
    "- 镜像 padding\n",
    "- 复制 padding\n",
    "- 0 padding\n",
    "- 常数 padding"
   ]
  },
  {
   "cell_type": "code",
   "execution_count": 1,
   "metadata": {
    "collapsed": true
   },
   "outputs": [],
   "source": [
    "import numpy as np\n",
    "import torch\n",
    "import torch.nn as nn\n",
    "import matplotlib.pyplot as plt\n",
    "%matplotlib inline\n"
   ]
  },
  {
   "cell_type": "code",
   "execution_count": 10,
   "metadata": {},
   "outputs": [
    {
     "data": {
      "text/plain": [
       "tensor([[[0., 1., 2., 3.],\n",
       "         [4., 5., 6., 7.]]])"
      ]
     },
     "execution_count": 10,
     "metadata": {},
     "output_type": "execute_result"
    }
   ],
   "source": [
    "#>一 镜像 padding\n",
    "##>1.1 一维镜像padding\n",
    "m1=nn.ReflectionPad1d(2)##left=right=2\n",
    "m2=nn.ReflectionPad1d((2,1))##left=2,right=1\n",
    "input=torch.arange(8,dtype=torch.float).reshape(1,2,4)\n",
    "input"
   ]
  },
  {
   "cell_type": "code",
   "execution_count": 11,
   "metadata": {},
   "outputs": [
    {
     "data": {
      "text/plain": [
       "tensor([[[2., 1., 0., 1., 2., 3., 2., 1.],\n",
       "         [6., 5., 4., 5., 6., 7., 6., 5.]]])"
      ]
     },
     "execution_count": 11,
     "metadata": {},
     "output_type": "execute_result"
    }
   ],
   "source": [
    "m1(input)"
   ]
  },
  {
   "cell_type": "code",
   "execution_count": 12,
   "metadata": {},
   "outputs": [
    {
     "data": {
      "text/plain": [
       "tensor([[[2., 1., 0., 1., 2., 3., 2.],\n",
       "         [6., 5., 4., 5., 6., 7., 6.]]])"
      ]
     },
     "execution_count": 12,
     "metadata": {},
     "output_type": "execute_result"
    }
   ],
   "source": [
    "m2(input)"
   ]
  },
  {
   "cell_type": "code",
   "execution_count": 13,
   "metadata": {},
   "outputs": [
    {
     "data": {
      "text/plain": [
       "tensor([[[[0., 1., 2.],\n",
       "          [3., 4., 5.],\n",
       "          [6., 7., 8.]]]])"
      ]
     },
     "execution_count": 13,
     "metadata": {},
     "output_type": "execute_result"
    }
   ],
   "source": [
    "##>1.2 二维镜像padding\n",
    "m1=nn.ReflectionPad2d(2)#left=right=top=bottom=2\n",
    "m2=nn.ReflectionPad2d((1,1,2,0))#left=right=1,top=2,bottom=0\n",
    "input=torch.arange(9,dtype=torch.float).reshape(1,1,3,3)\n",
    "input"
   ]
  },
  {
   "cell_type": "code",
   "execution_count": 14,
   "metadata": {},
   "outputs": [
    {
     "data": {
      "text/plain": [
       "tensor([[[[8., 7., 6., 7., 8., 7., 6.],\n",
       "          [5., 4., 3., 4., 5., 4., 3.],\n",
       "          [2., 1., 0., 1., 2., 1., 0.],\n",
       "          [5., 4., 3., 4., 5., 4., 3.],\n",
       "          [8., 7., 6., 7., 8., 7., 6.],\n",
       "          [5., 4., 3., 4., 5., 4., 3.],\n",
       "          [2., 1., 0., 1., 2., 1., 0.]]]])"
      ]
     },
     "execution_count": 14,
     "metadata": {},
     "output_type": "execute_result"
    }
   ],
   "source": [
    "m1(input)"
   ]
  },
  {
   "cell_type": "code",
   "execution_count": 15,
   "metadata": {},
   "outputs": [
    {
     "data": {
      "text/plain": [
       "tensor([[[[7., 6., 7., 8., 7.],\n",
       "          [4., 3., 4., 5., 4.],\n",
       "          [1., 0., 1., 2., 1.],\n",
       "          [4., 3., 4., 5., 4.],\n",
       "          [7., 6., 7., 8., 7.]]]])"
      ]
     },
     "execution_count": 15,
     "metadata": {},
     "output_type": "execute_result"
    }
   ],
   "source": [
    "m2(input)"
   ]
  },
  {
   "cell_type": "code",
   "execution_count": 16,
   "metadata": {
    "collapsed": true
   },
   "outputs": [],
   "source": [
    "#>二 复制 padding\n",
    "##>2.1 一维复制padding\n",
    "m1=nn.ReplicationPad1d(2)\n",
    "m2=nn.ReplicationPad1d((2,1))\n",
    "input_1d=torch.arange(8,dtype=torch.float).reshape(1,2,4)\n",
    "input_2d=torch.arange(9,dtype=torch.float).reshape(1,1,3,3)"
   ]
  },
  {
   "cell_type": "code",
   "execution_count": 17,
   "metadata": {},
   "outputs": [
    {
     "data": {
      "text/plain": [
       "tensor([[[0., 0., 0., 1., 2., 3., 3., 3.],\n",
       "         [4., 4., 4., 5., 6., 7., 7., 7.]]])"
      ]
     },
     "execution_count": 17,
     "metadata": {},
     "output_type": "execute_result"
    }
   ],
   "source": [
    "m1(input_1d)"
   ]
  },
  {
   "cell_type": "code",
   "execution_count": 19,
   "metadata": {},
   "outputs": [
    {
     "data": {
      "text/plain": [
       "tensor([[[0., 0., 0., 1., 2., 3., 3.],\n",
       "         [4., 4., 4., 5., 6., 7., 7.]]])"
      ]
     },
     "execution_count": 19,
     "metadata": {},
     "output_type": "execute_result"
    }
   ],
   "source": [
    "m2(input_1d)"
   ]
  },
  {
   "cell_type": "code",
   "execution_count": 20,
   "metadata": {},
   "outputs": [
    {
     "data": {
      "text/plain": [
       "tensor([[[[0., 0., 0., 1., 2., 2., 2.],\n",
       "          [0., 0., 0., 1., 2., 2., 2.],\n",
       "          [0., 0., 0., 1., 2., 2., 2.],\n",
       "          [3., 3., 3., 4., 5., 5., 5.],\n",
       "          [6., 6., 6., 7., 8., 8., 8.],\n",
       "          [6., 6., 6., 7., 8., 8., 8.],\n",
       "          [6., 6., 6., 7., 8., 8., 8.]]]])"
      ]
     },
     "execution_count": 20,
     "metadata": {},
     "output_type": "execute_result"
    }
   ],
   "source": [
    "##>2.2 二维复制padding\n",
    "m1=nn.ReplicationPad2d(2)\n",
    "m2=nn.ReflectionPad2d((1,1,2,0))\n",
    "m1(input_2d)"
   ]
  },
  {
   "cell_type": "code",
   "execution_count": 21,
   "metadata": {},
   "outputs": [
    {
     "data": {
      "text/plain": [
       "tensor([[[[7., 6., 7., 8., 7.],\n",
       "          [4., 3., 4., 5., 4.],\n",
       "          [1., 0., 1., 2., 1.],\n",
       "          [4., 3., 4., 5., 4.],\n",
       "          [7., 6., 7., 8., 7.]]]])"
      ]
     },
     "execution_count": 21,
     "metadata": {},
     "output_type": "execute_result"
    }
   ],
   "source": [
    "m2(input_2d)"
   ]
  },
  {
   "cell_type": "code",
   "execution_count": 22,
   "metadata": {},
   "outputs": [
    {
     "data": {
      "text/plain": [
       "tensor([[[[0., 0., 0., 0., 0., 0., 0.],\n",
       "          [0., 0., 0., 0., 0., 0., 0.],\n",
       "          [0., 0., 0., 1., 2., 0., 0.],\n",
       "          [0., 0., 3., 4., 5., 0., 0.],\n",
       "          [0., 0., 6., 7., 8., 0., 0.],\n",
       "          [0., 0., 0., 0., 0., 0., 0.],\n",
       "          [0., 0., 0., 0., 0., 0., 0.]]]])"
      ]
     },
     "execution_count": 22,
     "metadata": {},
     "output_type": "execute_result"
    }
   ],
   "source": [
    "#>三 零padding\n",
    "m1=nn.ZeroPad2d(2)\n",
    "m2=nn.ZeroPad2d((1,1,2,0))\n",
    "m1(input_2d)"
   ]
  },
  {
   "cell_type": "code",
   "execution_count": 23,
   "metadata": {},
   "outputs": [
    {
     "data": {
      "text/plain": [
       "tensor([[[[0., 0., 0., 0., 0.],\n",
       "          [0., 0., 0., 0., 0.],\n",
       "          [0., 0., 1., 2., 0.],\n",
       "          [0., 3., 4., 5., 0.],\n",
       "          [0., 6., 7., 8., 0.]]]])"
      ]
     },
     "execution_count": 23,
     "metadata": {},
     "output_type": "execute_result"
    }
   ],
   "source": [
    "m2(input_2d)"
   ]
  },
  {
   "cell_type": "code",
   "execution_count": 28,
   "metadata": {},
   "outputs": [
    {
     "data": {
      "text/plain": [
       "tensor([[[1.1000, 1.1000, 0.0000, 1.0000, 2.0000, 3.0000, 1.1000, 1.1000],\n",
       "         [1.1000, 1.1000, 4.0000, 5.0000, 6.0000, 7.0000, 1.1000, 1.1000]]])"
      ]
     },
     "execution_count": 28,
     "metadata": {},
     "output_type": "execute_result"
    }
   ],
   "source": [
    "#>四 常数padding\n",
    "##>4.1 一维常数padding\n",
    "m1=nn.ConstantPad1d(2,1.1)\n",
    "m2=nn.ConstantPad1d((2,1),1.2)\n",
    "m1(input_1d)"
   ]
  },
  {
   "cell_type": "code",
   "execution_count": 29,
   "metadata": {},
   "outputs": [
    {
     "data": {
      "text/plain": [
       "tensor([[[1.2000, 1.2000, 0.0000, 1.0000, 2.0000, 3.0000, 1.2000],\n",
       "         [1.2000, 1.2000, 4.0000, 5.0000, 6.0000, 7.0000, 1.2000]]])"
      ]
     },
     "execution_count": 29,
     "metadata": {},
     "output_type": "execute_result"
    }
   ],
   "source": [
    "m2(input_1d)"
   ]
  },
  {
   "cell_type": "code",
   "execution_count": 30,
   "metadata": {},
   "outputs": [
    {
     "data": {
      "text/plain": [
       "tensor([[[[0.2200, 0.2200, 0.2200, 0.2200, 0.2200, 0.2200, 0.2200],\n",
       "          [0.2200, 0.2200, 0.2200, 0.2200, 0.2200, 0.2200, 0.2200],\n",
       "          [0.2200, 0.2200, 0.0000, 1.0000, 2.0000, 0.2200, 0.2200],\n",
       "          [0.2200, 0.2200, 3.0000, 4.0000, 5.0000, 0.2200, 0.2200],\n",
       "          [0.2200, 0.2200, 6.0000, 7.0000, 8.0000, 0.2200, 0.2200],\n",
       "          [0.2200, 0.2200, 0.2200, 0.2200, 0.2200, 0.2200, 0.2200],\n",
       "          [0.2200, 0.2200, 0.2200, 0.2200, 0.2200, 0.2200, 0.2200]]]])"
      ]
     },
     "execution_count": 30,
     "metadata": {},
     "output_type": "execute_result"
    }
   ],
   "source": [
    "##>4.2 二维常数padding\n",
    "m1=nn.ConstantPad2d(2,0.22)\n",
    "m2=nn.ConstantPad2d((1,1,2,0),0.33)\n",
    "m1(input_2d)"
   ]
  },
  {
   "cell_type": "code",
   "execution_count": 31,
   "metadata": {},
   "outputs": [
    {
     "data": {
      "text/plain": [
       "tensor([[[[0.3300, 0.3300, 0.3300, 0.3300, 0.3300],\n",
       "          [0.3300, 0.3300, 0.3300, 0.3300, 0.3300],\n",
       "          [0.3300, 0.0000, 1.0000, 2.0000, 0.3300],\n",
       "          [0.3300, 3.0000, 4.0000, 5.0000, 0.3300],\n",
       "          [0.3300, 6.0000, 7.0000, 8.0000, 0.3300]]]])"
      ]
     },
     "execution_count": 31,
     "metadata": {},
     "output_type": "execute_result"
    }
   ],
   "source": [
    "m2(input_2d)"
   ]
  },
  {
   "cell_type": "code",
   "execution_count": null,
   "metadata": {
    "collapsed": true
   },
   "outputs": [],
   "source": []
  }
 ],
 "metadata": {
  "kernelspec": {
   "display_name": "Python 3",
   "language": "python",
   "name": "python3"
  },
  "language_info": {
   "codemirror_mode": {
    "name": "ipython",
    "version": 3
   },
   "file_extension": ".py",
   "mimetype": "text/x-python",
   "name": "python",
   "nbconvert_exporter": "python",
   "pygments_lexer": "ipython3",
   "version": "3.6.1"
  }
 },
 "nbformat": 4,
 "nbformat_minor": 2
}
