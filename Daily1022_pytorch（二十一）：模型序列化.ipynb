{
 "cells": [
  {
   "cell_type": "code",
   "execution_count": 1,
   "metadata": {
    "collapsed": true
   },
   "outputs": [],
   "source": [
    "import numpy as np\n",
    "import torch\n",
    "import torch.nn as nn"
   ]
  },
  {
   "cell_type": "markdown",
   "metadata": {},
   "source": [
    "#  模型序列化与反序列化\n",
    "\n",
    "有两种方式进行模型的序列化：\n",
    "\n",
    "## 方式一（推荐）：只序列化模型的参数"
   ]
  },
  {
   "cell_type": "code",
   "execution_count": 2,
   "metadata": {
    "collapsed": true
   },
   "outputs": [],
   "source": [
    "def init(m):\n",
    "    if type(m) == nn.Linear:\n",
    "        m.bias.data.fill_(1.0)\n",
    "        m.weight.data.fill_(2.0)"
   ]
  },
  {
   "cell_type": "code",
   "execution_count": 3,
   "metadata": {},
   "outputs": [
    {
     "data": {
      "text/plain": [
       "Linear(in_features=2, out_features=3, bias=True)"
      ]
     },
     "execution_count": 3,
     "metadata": {},
     "output_type": "execute_result"
    }
   ],
   "source": [
    "model=nn.Linear(2,3)\n",
    "model.apply(init)"
   ]
  },
  {
   "cell_type": "code",
   "execution_count": 4,
   "metadata": {},
   "outputs": [
    {
     "name": "stdout",
     "output_type": "stream",
     "text": [
      "weight --> Parameter containing:\n",
      "tensor([[2., 2.],\n",
      "        [2., 2.],\n",
      "        [2., 2.]], requires_grad=True)\n",
      "bias --> Parameter containing:\n",
      "tensor([1., 1., 1.], requires_grad=True)\n"
     ]
    }
   ],
   "source": [
    "for n,i in model.named_parameters():\n",
    "    print(n,'-->',i)"
   ]
  },
  {
   "cell_type": "code",
   "execution_count": 12,
   "metadata": {},
   "outputs": [],
   "source": [
    "##序列化\n",
    "torch.save(model.state_dict(),'./model/linear_mod.pt')"
   ]
  },
  {
   "cell_type": "code",
   "execution_count": 13,
   "metadata": {
    "collapsed": true
   },
   "outputs": [],
   "source": [
    "##反序列化\n",
    "mod2=nn.Linear(2,3)\n",
    "mod2.load_state_dict(torch.load('./model/linear_mod.pt'))\n"
   ]
  },
  {
   "cell_type": "code",
   "execution_count": 14,
   "metadata": {},
   "outputs": [
    {
     "name": "stdout",
     "output_type": "stream",
     "text": [
      "weight --> Parameter containing:\n",
      "tensor([[2., 2.],\n",
      "        [2., 2.],\n",
      "        [2., 2.]], requires_grad=True)\n",
      "bias --> Parameter containing:\n",
      "tensor([1., 1., 1.], requires_grad=True)\n"
     ]
    }
   ],
   "source": [
    "for n,i in model.named_parameters():\n",
    "    print(n,'-->',i)"
   ]
  },
  {
   "cell_type": "markdown",
   "metadata": {},
   "source": [
    "## 方式二：序列化全部模型"
   ]
  },
  {
   "cell_type": "code",
   "execution_count": 15,
   "metadata": {
    "collapsed": true
   },
   "outputs": [],
   "source": [
    "torch.save(model,'./model/linear_mod_all.pt')"
   ]
  },
  {
   "cell_type": "code",
   "execution_count": 16,
   "metadata": {
    "collapsed": true
   },
   "outputs": [],
   "source": [
    "mod3=torch.load('./model/linear_mod_all.pt')"
   ]
  },
  {
   "cell_type": "code",
   "execution_count": 17,
   "metadata": {},
   "outputs": [
    {
     "name": "stdout",
     "output_type": "stream",
     "text": [
      "weight --> Parameter containing:\n",
      "tensor([[2., 2.],\n",
      "        [2., 2.],\n",
      "        [2., 2.]], requires_grad=True)\n",
      "bias --> Parameter containing:\n",
      "tensor([1., 1., 1.], requires_grad=True)\n"
     ]
    }
   ],
   "source": [
    "for n,i in model.named_parameters():\n",
    "    print(n,'-->',i)"
   ]
  },
  {
   "cell_type": "markdown",
   "metadata": {},
   "source": [
    ">这种方式下序列化数据被绑定到指定的类，并且使用了特定的目录结构.\n",
    "\n",
    ">因此当在其他项目中使用时，可能有很多原因造成模型毁坏."
   ]
  },
  {
   "cell_type": "code",
   "execution_count": null,
   "metadata": {
    "collapsed": true
   },
   "outputs": [],
   "source": []
  }
 ],
 "metadata": {
  "kernelspec": {
   "display_name": "Python 3",
   "language": "python",
   "name": "python3"
  },
  "language_info": {
   "codemirror_mode": {
    "name": "ipython",
    "version": 3
   },
   "file_extension": ".py",
   "mimetype": "text/x-python",
   "name": "python",
   "nbconvert_exporter": "python",
   "pygments_lexer": "ipython3",
   "version": "3.6.1"
  }
 },
 "nbformat": 4,
 "nbformat_minor": 2
}
