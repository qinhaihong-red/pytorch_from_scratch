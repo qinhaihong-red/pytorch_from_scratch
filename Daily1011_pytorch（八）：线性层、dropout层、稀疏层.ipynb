{
 "cells": [
  {
   "cell_type": "code",
   "execution_count": 1,
   "metadata": {
    "collapsed": true
   },
   "outputs": [],
   "source": [
    "import numpy as np\n",
    "import torch\n",
    "import torch.nn as nn\n",
    "import matplotlib.pyplot as plt\n",
    "%matplotlib inline"
   ]
  },
  {
   "cell_type": "code",
   "execution_count": 2,
   "metadata": {},
   "outputs": [
    {
     "data": {
      "text/plain": [
       "torch.Size([128, 10])"
      ]
     },
     "execution_count": 2,
     "metadata": {},
     "output_type": "execute_result"
    }
   ],
   "source": [
    "#一 线性层\n",
    "##>1.1 Linear\n",
    "x=torch.randn(128,20)\n",
    "m=nn.Linear(20,10)##input_features,output_features,bias=True\n",
    "y=m(x)\n",
    "y.shape"
   ]
  },
  {
   "cell_type": "code",
   "execution_count": 10,
   "metadata": {},
   "outputs": [
    {
     "name": "stdout",
     "output_type": "stream",
     "text": [
      "<class 'torch.nn.parameter.Parameter'> \n",
      " <class 'torch.nn.parameter.Parameter'>\n"
     ]
    }
   ],
   "source": [
    "##注意它有两个类型为parameter的参数：一个是weight，一个是bias\n",
    "print(type(m.weight),'\\n',type(m.bias))"
   ]
  },
  {
   "cell_type": "code",
   "execution_count": 5,
   "metadata": {},
   "outputs": [
    {
     "data": {
      "text/plain": [
       "torch.Size([10, 20])"
      ]
     },
     "execution_count": 5,
     "metadata": {},
     "output_type": "execute_result"
    }
   ],
   "source": [
    "m.weight.shape"
   ]
  },
  {
   "cell_type": "code",
   "execution_count": 8,
   "metadata": {},
   "outputs": [
    {
     "data": {
      "text/plain": [
       "tensor([-0.1344,  0.1852,  0.0285, -0.1768,  0.1633, -0.0574, -0.1533, -0.2139,\n",
       "         0.2019, -0.1428])"
      ]
     },
     "execution_count": 8,
     "metadata": {},
     "output_type": "execute_result"
    }
   ],
   "source": [
    "m.bias.data"
   ]
  },
  {
   "cell_type": "code",
   "execution_count": 11,
   "metadata": {},
   "outputs": [
    {
     "data": {
      "text/plain": [
       "tensor([[0.5000, 0.5000, 0.5000, 0.5000, 0.5000],\n",
       "        [0.5000, 0.5000, 0.5000, 0.5000, 0.5000],\n",
       "        [0.5000, 0.5000, 0.5000, 0.5000, 0.5000]])"
      ]
     },
     "execution_count": 11,
     "metadata": {},
     "output_type": "execute_result"
    }
   ],
   "source": [
    "##初始化\n",
    "m2=nn.Linear(5,3)\n",
    "def init(m):\n",
    "    m.bias.data.fill_(1.1)\n",
    "    m.weight.data.fill_(0.5)\n",
    "m2.apply(init)\n",
    "m2.weight.data"
   ]
  },
  {
   "cell_type": "code",
   "execution_count": 12,
   "metadata": {},
   "outputs": [
    {
     "name": "stdout",
     "output_type": "stream",
     "text": [
      "weight --> Parameter containing:\n",
      "tensor([[0.5000, 0.5000, 0.5000, 0.5000, 0.5000],\n",
      "        [0.5000, 0.5000, 0.5000, 0.5000, 0.5000],\n",
      "        [0.5000, 0.5000, 0.5000, 0.5000, 0.5000]], requires_grad=True)\n",
      "bias --> Parameter containing:\n",
      "tensor([1.1000, 1.1000, 1.1000], requires_grad=True)\n"
     ]
    }
   ],
   "source": [
    "for n,i in m2.named_parameters():\n",
    "    print(n,'-->',i)"
   ]
  },
  {
   "cell_type": "code",
   "execution_count": 16,
   "metadata": {},
   "outputs": [
    {
     "data": {
      "text/plain": [
       "torch.Size([4, 2, 3])"
      ]
     },
     "execution_count": 16,
     "metadata": {},
     "output_type": "execute_result"
    }
   ],
   "source": [
    "##>1.2 Bilinear\n",
    "m=nn.Bilinear(2,3,4)\n",
    "input1=torch.arange(8,dtype=torch.float).reshape(4,2)\n",
    "input2=torch.arange(12,dtype=torch.float).reshape(4,3)\n",
    "def init2(m):\n",
    "    m.weight.data.fill_(1.0)\n",
    "    m.bias.data.fill_(2.0)\n",
    "\n",
    "m.apply(init2)\n",
    "m.weight.data.shape"
   ]
  },
  {
   "cell_type": "code",
   "execution_count": 20,
   "metadata": {},
   "outputs": [
    {
     "data": {
      "text/plain": [
       "torch.Size([4, 4])"
      ]
     },
     "execution_count": 20,
     "metadata": {},
     "output_type": "execute_result"
    }
   ],
   "source": [
    "out=m(input1,input2)\n",
    "out.shape"
   ]
  },
  {
   "cell_type": "code",
   "execution_count": null,
   "metadata": {
    "collapsed": true
   },
   "outputs": [],
   "source": [
    "#二 dropout层\n",
    "##>2.1 Dropout"
   ]
  },
  {
   "cell_type": "markdown",
   "metadata": {},
   "source": [
    "在训练过程中，随机把输入张量的一些元素以p概率置0，可以：\n",
    "- 有效正则化\n",
    "- 防止神经元的共适应\n",
    "\n",
    "p默认为0.5"
   ]
  },
  {
   "cell_type": "code",
   "execution_count": 32,
   "metadata": {},
   "outputs": [
    {
     "data": {
      "text/plain": [
       "tensor([[ 0.,  1.,  2.],\n",
       "        [ 3.,  4.,  5.],\n",
       "        [ 6.,  7.,  8.],\n",
       "        [ 9., 10., 11.]])"
      ]
     },
     "execution_count": 32,
     "metadata": {},
     "output_type": "execute_result"
    }
   ],
   "source": [
    "m=nn.Dropout()\n",
    "x=torch.randn(4,3)\n",
    "y=torch.arange(12,dtype=torch.float).reshape(4,3)\n",
    "y"
   ]
  },
  {
   "cell_type": "code",
   "execution_count": 33,
   "metadata": {},
   "outputs": [
    {
     "data": {
      "text/plain": [
       "tensor([[ 0.,  2.,  4.],\n",
       "        [ 0.,  8., 10.],\n",
       "        [ 0., 14.,  0.],\n",
       "        [ 0., 20.,  0.]])"
      ]
     },
     "execution_count": 33,
     "metadata": {},
     "output_type": "execute_result"
    }
   ],
   "source": [
    "m(y)"
   ]
  },
  {
   "cell_type": "markdown",
   "metadata": {},
   "source": [
    "__除了置0以外，非0输出会以$\\frac{1}{1-p}$的比例进行缩放__"
   ]
  },
  {
   "cell_type": "code",
   "execution_count": 42,
   "metadata": {},
   "outputs": [
    {
     "data": {
      "text/plain": [
       "tensor([[[[ 0.,  2.,  4.,  6.],\n",
       "          [ 8., 10., 12., 14.],\n",
       "          [16., 18., 20., 22.],\n",
       "          [24., 26., 28., 30.]],\n",
       "\n",
       "         [[ 0.,  0.,  0.,  0.],\n",
       "          [ 0.,  0.,  0.,  0.],\n",
       "          [ 0.,  0.,  0.,  0.],\n",
       "          [ 0.,  0.,  0.,  0.]]]])"
      ]
     },
     "execution_count": 42,
     "metadata": {},
     "output_type": "execute_result"
    }
   ],
   "source": [
    "##>2.2 Dropout2d\n",
    "m=nn.Dropout2d()\n",
    "x=torch.arange(32,dtype=torch.float).reshape(1,2,4,4)\n",
    "m(x)"
   ]
  },
  {
   "cell_type": "markdown",
   "metadata": {},
   "source": [
    "dropout2d的置0与缩放，针对的是整个channel"
   ]
  },
  {
   "cell_type": "code",
   "execution_count": 43,
   "metadata": {
    "collapsed": true
   },
   "outputs": [],
   "source": [
    "##>2.3 alphadropout"
   ]
  },
  {
   "cell_type": "code",
   "execution_count": 44,
   "metadata": {
    "collapsed": true
   },
   "outputs": [],
   "source": [
    "#>三 稀疏层\n",
    "##>3.1 Embedding"
   ]
  },
  {
   "cell_type": "code",
   "execution_count": 45,
   "metadata": {
    "collapsed": true
   },
   "outputs": [],
   "source": [
    "##>3.2 EmbeddingGag"
   ]
  },
  {
   "cell_type": "code",
   "execution_count": null,
   "metadata": {
    "collapsed": true
   },
   "outputs": [],
   "source": []
  }
 ],
 "metadata": {
  "kernelspec": {
   "display_name": "Python 3",
   "language": "python",
   "name": "python3"
  },
  "language_info": {
   "codemirror_mode": {
    "name": "ipython",
    "version": 3
   },
   "file_extension": ".py",
   "mimetype": "text/x-python",
   "name": "python",
   "nbconvert_exporter": "python",
   "pygments_lexer": "ipython3",
   "version": "3.6.1"
  }
 },
 "nbformat": 4,
 "nbformat_minor": 2
}
