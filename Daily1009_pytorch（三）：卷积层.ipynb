{
 "cells": [
  {
   "cell_type": "code",
   "execution_count": 4,
   "metadata": {
    "collapsed": true
   },
   "outputs": [],
   "source": [
    "import numpy as np\n",
    "import torch\n",
    "import torch.nn as nn\n",
    "import matplotlib.pyplot as plt\n",
    "%matplotlib inline"
   ]
  },
  {
   "cell_type": "code",
   "execution_count": 5,
   "metadata": {},
   "outputs": [],
   "source": [
    "#>一 卷积层\n",
    "##>1.1 一维卷积层\n",
    "m=nn.Conv1d(16,33,3,stride=2)\n",
    "input=torch.randn(20,16,50)\n",
    "out=m(input)"
   ]
  },
  {
   "cell_type": "code",
   "execution_count": 6,
   "metadata": {},
   "outputs": [
    {
     "data": {
      "text/plain": [
       "torch.Size([20, 33, 24])"
      ]
     },
     "execution_count": 6,
     "metadata": {},
     "output_type": "execute_result"
    }
   ],
   "source": [
    "out.shape"
   ]
  },
  {
   "cell_type": "code",
   "execution_count": 9,
   "metadata": {},
   "outputs": [
    {
     "data": {
      "text/plain": [
       "torch.Size([1, 2, 3, 3])"
      ]
     },
     "execution_count": 9,
     "metadata": {},
     "output_type": "execute_result"
    }
   ],
   "source": [
    "##>1.2 二维卷积层\n",
    "input=torch.randn(1,3,5,5)\n",
    "m=nn.Conv2d(3,2,3,stride=2,padding=1)##stride默认是1，padding默认是0\n",
    "out=m(input)\n",
    "out.shape"
   ]
  },
  {
   "cell_type": "code",
   "execution_count": 10,
   "metadata": {
    "collapsed": true
   },
   "outputs": [],
   "source": [
    "##>1.2.1 非正方的卷积核+不相等的步长+不等的步长+膨胀\n",
    "##从kernel_size到dilation，参数既可以是int，又可以是tuple\n",
    "m=nn.Conv2d(16,33,kernel_size=(3,5),stride=(2,1),padding=(4,2),dilation=(3,1))"
   ]
  },
  {
   "cell_type": "code",
   "execution_count": 11,
   "metadata": {},
   "outputs": [
    {
     "data": {
      "text/plain": [
       "torch.Size([20, 33, 26, 100])"
      ]
     },
     "execution_count": 11,
     "metadata": {},
     "output_type": "execute_result"
    }
   ],
   "source": [
    "input=torch.randn(20,16,50,100)##20个16通道的50*100(H*W)数据\n",
    "out=m(input)\n",
    "out.shape"
   ]
  },
  {
   "cell_type": "code",
   "execution_count": 13,
   "metadata": {},
   "outputs": [
    {
     "data": {
      "text/plain": [
       "torch.Size([20, 33, 8, 50, 99])"
      ]
     },
     "execution_count": 13,
     "metadata": {},
     "output_type": "execute_result"
    }
   ],
   "source": [
    "##>1.3 三维卷积层\n",
    "m=nn.Conv3d(16,33,(3,5,2),stride=(2,1,1),padding=(4,2,0))\n",
    "input=torch.randn(20,16,10,50,100)##20个16通道的10x50x100(depth*height*width,DHW)数据\n",
    "out=m(input)\n",
    "out.shape"
   ]
  },
  {
   "cell_type": "code",
   "execution_count": 14,
   "metadata": {},
   "outputs": [
    {
     "data": {
      "text/plain": [
       "torch.Size([20, 33, 93, 100])"
      ]
     },
     "execution_count": 14,
     "metadata": {},
     "output_type": "execute_result"
    }
   ],
   "source": [
    "#>二 转置卷积\n",
    "##>2.1 二维转置卷积\n",
    "m=nn.ConvTranspose2d(16,33,(3,5),stride=(2,1),padding=(4,2))\n",
    "input=torch.randn(20,16,50,100)\n",
    "out=m(input)\n",
    "out.shape"
   ]
  },
  {
   "cell_type": "code",
   "execution_count": 15,
   "metadata": {},
   "outputs": [
    {
     "data": {
      "text/plain": [
       "torch.Size([1, 16, 6, 6])"
      ]
     },
     "execution_count": 15,
     "metadata": {},
     "output_type": "execute_result"
    }
   ],
   "source": [
    "##>2.1.2 上下采样\n",
    "input=torch.randn(1,16,12,12)\n",
    "downsample=nn.Conv2d(16,16,3,stride=2,padding=1)##25x25\n",
    "upsample=nn.ConvTranspose2d(16,16,3,stride=2,padding=1)\n",
    "h=downsample(input)\n",
    "h.shape"
   ]
  },
  {
   "cell_type": "code",
   "execution_count": 20,
   "metadata": {},
   "outputs": [
    {
     "data": {
      "text/plain": [
       "torch.Size([1, 16, 12, 12])"
      ]
     },
     "execution_count": 20,
     "metadata": {},
     "output_type": "execute_result"
    }
   ],
   "source": [
    "out=upsample(h,output_size=input.shape)##output_size参数用作推断output_padding，参考源码\n",
    "out.shape"
   ]
  },
  {
   "cell_type": "code",
   "execution_count": 21,
   "metadata": {},
   "outputs": [
    {
     "data": {
      "text/plain": [
       "torch.Size([20, 33, 4, 54, 103])"
      ]
     },
     "execution_count": 21,
     "metadata": {},
     "output_type": "execute_result"
    }
   ],
   "source": [
    "##>2.2 三维卷积\n",
    "m=nn.Conv3d(16,33,(3,5,2),stride=(2,1,1),padding=(0,4,2))\n",
    "input=torch.randn(20,16,10,50,100)##dhw:10x50x100\n",
    "out=m(input)\n",
    "out.shape"
   ]
  },
  {
   "cell_type": "code",
   "execution_count": null,
   "metadata": {
    "collapsed": true
   },
   "outputs": [],
   "source": [
    "##############test#############################\n",
    "\n"
   ]
  }
 ],
 "metadata": {
  "kernelspec": {
   "display_name": "Python 3",
   "language": "python",
   "name": "python3"
  },
  "language_info": {
   "codemirror_mode": {
    "name": "ipython",
    "version": 3
   },
   "file_extension": ".py",
   "mimetype": "text/x-python",
   "name": "python",
   "nbconvert_exporter": "python",
   "pygments_lexer": "ipython3",
   "version": "3.6.1"
  }
 },
 "nbformat": 4,
 "nbformat_minor": 2
}
