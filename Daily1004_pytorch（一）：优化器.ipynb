{
 "cells": [
  {
   "cell_type": "markdown",
   "metadata": {},
   "source": [
    "## pytorch的参数优化阶段：\n",
    "- 通过backward计算梯度\n",
    "- 选定合适的损失函数\n",
    "- 选定合适的梯度下降算法，对损失函数使用算法迭代计算梯度\n",
    "\n",
    "## 传统梯度下降的缺陷：\n",
    "- 缺乏动量，导致陷入极小点或者鞍点\n",
    "- 学习率固定，导致在最优点附近震荡或者迭代速度过慢"
   ]
  },
  {
   "cell_type": "code",
   "execution_count": 1,
   "metadata": {
    "collapsed": true
   },
   "outputs": [],
   "source": [
    "import numpy as np\n",
    "import torch"
   ]
  },
  {
   "cell_type": "code",
   "execution_count": 2,
   "metadata": {},
   "outputs": [
    {
     "data": {
      "text/plain": [
       "tensor([0, 1, 2, 3, 4], dtype=torch.int32)"
      ]
     },
     "execution_count": 2,
     "metadata": {},
     "output_type": "execute_result"
    }
   ],
   "source": [
    "x=np.arange(5)\n",
    "t=torch.from_numpy(x)\n",
    "t"
   ]
  },
  {
   "cell_type": "code",
   "execution_count": 3,
   "metadata": {
    "collapsed": true
   },
   "outputs": [],
   "source": [
    "t[0]=1"
   ]
  },
  {
   "cell_type": "code",
   "execution_count": 4,
   "metadata": {},
   "outputs": [
    {
     "data": {
      "text/plain": [
       "array([1, 1, 2, 3, 4])"
      ]
     },
     "execution_count": 4,
     "metadata": {},
     "output_type": "execute_result"
    }
   ],
   "source": [
    "x"
   ]
  },
  {
   "cell_type": "code",
   "execution_count": 5,
   "metadata": {
    "collapsed": true
   },
   "outputs": [],
   "source": [
    "a=t.numpy()"
   ]
  },
  {
   "cell_type": "code",
   "execution_count": 7,
   "metadata": {},
   "outputs": [
    {
     "data": {
      "text/plain": [
       "numpy.ndarray"
      ]
     },
     "execution_count": 7,
     "metadata": {},
     "output_type": "execute_result"
    }
   ],
   "source": [
    "type(a)"
   ]
  },
  {
   "cell_type": "code",
   "execution_count": 8,
   "metadata": {},
   "outputs": [
    {
     "data": {
      "text/plain": [
       "[1, 1, 2, 3, 4]"
      ]
     },
     "execution_count": 8,
     "metadata": {},
     "output_type": "execute_result"
    }
   ],
   "source": [
    "l=x.tolist()\n",
    "l"
   ]
  },
  {
   "cell_type": "code",
   "execution_count": 9,
   "metadata": {},
   "outputs": [
    {
     "data": {
      "text/plain": [
       "[1, 30, 2, 3, 4]"
      ]
     },
     "execution_count": 9,
     "metadata": {},
     "output_type": "execute_result"
    }
   ],
   "source": [
    "l[1]=30\n",
    "l"
   ]
  },
  {
   "cell_type": "code",
   "execution_count": 10,
   "metadata": {},
   "outputs": [
    {
     "data": {
      "text/plain": [
       "array([1, 1, 2, 3, 4])"
      ]
     },
     "execution_count": 10,
     "metadata": {},
     "output_type": "execute_result"
    }
   ],
   "source": [
    "x"
   ]
  },
  {
   "cell_type": "markdown",
   "metadata": {},
   "source": [
    "### 一. 使用torch.optim.SGD\n",
    "\n",
    "求 $f(x,y)=-(cos^{2}x+cos^{2}y)^{2}$的极小值"
   ]
  },
  {
   "cell_type": "code",
   "execution_count": 11,
   "metadata": {
    "collapsed": true
   },
   "outputs": [],
   "source": [
    "import torch.optim\n",
    "x = torch.tensor([np.pi/3,np.pi/6],requires_grad=True)\n",
    "opt=torch.optim.SGD([x],lr=0.1,momentum=0)##先不使用动量\n"
   ]
  },
  {
   "cell_type": "code",
   "execution_count": 23,
   "metadata": {},
   "outputs": [
    {
     "name": "stdout",
     "output_type": "stream",
     "text": [
      "i 0: x=[0. 0.],f=-4.0\n",
      "i 1: x=[0. 0.],f=-4.0\n",
      "i 2: x=[0. 0.],f=-4.0\n",
      "i 3: x=[0. 0.],f=-4.0\n",
      "i 4: x=[0. 0.],f=-4.0\n",
      "i 5: x=[0. 0.],f=-4.0\n",
      "i 6: x=[0. 0.],f=-4.0\n",
      "i 7: x=[0. 0.],f=-4.0\n",
      "i 8: x=[0. 0.],f=-4.0\n",
      "i 9: x=[0. 0.],f=-4.0\n",
      "i 10: x=[0. 0.],f=-4.0\n"
     ]
    }
   ],
   "source": [
    "for i in range(11):\n",
    "    if i:\n",
    "        opt.zero_grad()\n",
    "        f.backward()\n",
    "        opt.step()\n",
    "    \n",
    "    f = -((x.cos()**2).sum())**2\n",
    "    print('i {}: x={},f={}'.format(i,np.round(x.tolist(),3),f))"
   ]
  },
  {
   "cell_type": "markdown",
   "metadata": {},
   "source": [
    "## 二. 使用torch.optim.Adam\n",
    "\n",
    "Adama优化函数在SGD的基础上，综合动量和自适应的学习率，避免出现SGD的两个问题\n",
    "\n",
    "求Himmelblau函数的极小值\n",
    "\n"
   ]
  },
  {
   "cell_type": "code",
   "execution_count": 3,
   "metadata": {
    "collapsed": true
   },
   "outputs": [],
   "source": [
    "def himmelblau(x):\n",
    "    return (x[0]**2+x[1]-11)**2+(x[0]+x[1]**2-7)**2"
   ]
  },
  {
   "cell_type": "code",
   "execution_count": 18,
   "metadata": {
    "collapsed": true
   },
   "outputs": [],
   "source": [
    "##画出himemelblau的函数图像\n",
    "%matplotlib inline\n",
    "from mpl_toolkits.mplot3d import Axes3D\n",
    "import matplotlib.pyplot as plt\n",
    "from matplotlib import cm\n",
    "from matplotlib.colors import LinearSegmentedColormap\n",
    "import seaborn as sns;sns.set()\n"
   ]
  },
  {
   "cell_type": "code",
   "execution_count": 6,
   "metadata": {},
   "outputs": [
    {
     "data": {
      "text/plain": [
       "(120, 120)"
      ]
     },
     "execution_count": 6,
     "metadata": {},
     "output_type": "execute_result"
    }
   ],
   "source": [
    "x=np.arange(-6,6,0.1)\n",
    "y=np.arange(-6,6,0.1)\n",
    "X,Y=np.meshgrid(x,y)\n",
    "X.shape"
   ]
  },
  {
   "cell_type": "code",
   "execution_count": 7,
   "metadata": {},
   "outputs": [
    {
     "data": {
      "text/plain": [
       "(120,)"
      ]
     },
     "execution_count": 7,
     "metadata": {},
     "output_type": "execute_result"
    }
   ],
   "source": [
    "x.shape"
   ]
  },
  {
   "cell_type": "code",
   "execution_count": 8,
   "metadata": {},
   "outputs": [
    {
     "data": {
      "text/plain": [
       "array([-6.00000000e+00, -5.90000000e+00, -5.80000000e+00, -5.70000000e+00,\n",
       "       -5.60000000e+00, -5.50000000e+00, -5.40000000e+00, -5.30000000e+00,\n",
       "       -5.20000000e+00, -5.10000000e+00, -5.00000000e+00, -4.90000000e+00,\n",
       "       -4.80000000e+00, -4.70000000e+00, -4.60000000e+00, -4.50000000e+00,\n",
       "       -4.40000000e+00, -4.30000000e+00, -4.20000000e+00, -4.10000000e+00,\n",
       "       -4.00000000e+00, -3.90000000e+00, -3.80000000e+00, -3.70000000e+00,\n",
       "       -3.60000000e+00, -3.50000000e+00, -3.40000000e+00, -3.30000000e+00,\n",
       "       -3.20000000e+00, -3.10000000e+00, -3.00000000e+00, -2.90000000e+00,\n",
       "       -2.80000000e+00, -2.70000000e+00, -2.60000000e+00, -2.50000000e+00,\n",
       "       -2.40000000e+00, -2.30000000e+00, -2.20000000e+00, -2.10000000e+00,\n",
       "       -2.00000000e+00, -1.90000000e+00, -1.80000000e+00, -1.70000000e+00,\n",
       "       -1.60000000e+00, -1.50000000e+00, -1.40000000e+00, -1.30000000e+00,\n",
       "       -1.20000000e+00, -1.10000000e+00, -1.00000000e+00, -9.00000000e-01,\n",
       "       -8.00000000e-01, -7.00000000e-01, -6.00000000e-01, -5.00000000e-01,\n",
       "       -4.00000000e-01, -3.00000000e-01, -2.00000000e-01, -1.00000000e-01,\n",
       "       -2.13162821e-14,  1.00000000e-01,  2.00000000e-01,  3.00000000e-01,\n",
       "        4.00000000e-01,  5.00000000e-01,  6.00000000e-01,  7.00000000e-01,\n",
       "        8.00000000e-01,  9.00000000e-01,  1.00000000e+00,  1.10000000e+00,\n",
       "        1.20000000e+00,  1.30000000e+00,  1.40000000e+00,  1.50000000e+00,\n",
       "        1.60000000e+00,  1.70000000e+00,  1.80000000e+00,  1.90000000e+00,\n",
       "        2.00000000e+00,  2.10000000e+00,  2.20000000e+00,  2.30000000e+00,\n",
       "        2.40000000e+00,  2.50000000e+00,  2.60000000e+00,  2.70000000e+00,\n",
       "        2.80000000e+00,  2.90000000e+00,  3.00000000e+00,  3.10000000e+00,\n",
       "        3.20000000e+00,  3.30000000e+00,  3.40000000e+00,  3.50000000e+00,\n",
       "        3.60000000e+00,  3.70000000e+00,  3.80000000e+00,  3.90000000e+00,\n",
       "        4.00000000e+00,  4.10000000e+00,  4.20000000e+00,  4.30000000e+00,\n",
       "        4.40000000e+00,  4.50000000e+00,  4.60000000e+00,  4.70000000e+00,\n",
       "        4.80000000e+00,  4.90000000e+00,  5.00000000e+00,  5.10000000e+00,\n",
       "        5.20000000e+00,  5.30000000e+00,  5.40000000e+00,  5.50000000e+00,\n",
       "        5.60000000e+00,  5.70000000e+00,  5.80000000e+00,  5.90000000e+00])"
      ]
     },
     "execution_count": 8,
     "metadata": {},
     "output_type": "execute_result"
    }
   ],
   "source": [
    "x"
   ]
  },
  {
   "cell_type": "code",
   "execution_count": 9,
   "metadata": {},
   "outputs": [
    {
     "data": {
      "text/plain": [
       "array([[-6. , -5.9, -5.8, ...,  5.7,  5.8,  5.9],\n",
       "       [-6. , -5.9, -5.8, ...,  5.7,  5.8,  5.9],\n",
       "       [-6. , -5.9, -5.8, ...,  5.7,  5.8,  5.9],\n",
       "       ...,\n",
       "       [-6. , -5.9, -5.8, ...,  5.7,  5.8,  5.9],\n",
       "       [-6. , -5.9, -5.8, ...,  5.7,  5.8,  5.9],\n",
       "       [-6. , -5.9, -5.8, ...,  5.7,  5.8,  5.9]])"
      ]
     },
     "execution_count": 9,
     "metadata": {},
     "output_type": "execute_result"
    }
   ],
   "source": [
    "X"
   ]
  },
  {
   "cell_type": "code",
   "execution_count": 10,
   "metadata": {},
   "outputs": [
    {
     "data": {
      "text/plain": [
       "(120, 120)"
      ]
     },
     "execution_count": 10,
     "metadata": {},
     "output_type": "execute_result"
    }
   ],
   "source": [
    "X.shape"
   ]
  },
  {
   "cell_type": "code",
   "execution_count": 12,
   "metadata": {},
   "outputs": [
    {
     "data": {
      "text/plain": [
       "(120, 120)"
      ]
     },
     "execution_count": 12,
     "metadata": {},
     "output_type": "execute_result"
    }
   ],
   "source": [
    "Z=himmelblau([X,Y])\n",
    "Z.shape"
   ]
  },
  {
   "cell_type": "code",
   "execution_count": 19,
   "metadata": {},
   "outputs": [
    {
     "data": {
      "image/png": "[encoded data removed]",
      "text/plain": [
       "<matplotlib.figure.Figure at 0x13ea947f908>"
      ]
     },
     "metadata": {},
     "output_type": "display_data"
    }
   ],
   "source": [
    "fig=plt.figure()\n",
    "ax=fig.gca(projection='3d')\n",
    "ax.plot_surface(X,Y,Z)\n",
    "ax.view_init(60,-30)\n",
    "ax.set_xlabel('x[0]')\n",
    "ax.set_ylabel('x[1]');"
   ]
  },
  {
   "cell_type": "code",
   "execution_count": 33,
   "metadata": {},
   "outputs": [
    {
     "name": "stdout",
     "output_type": "stream",
     "text": [
      "with init-vals:[0, 0]\n",
      "i:0,f=169.96396,x=[0.001 0.001],x.grad=[-14. -22.]\n",
      "i:1000,f=88.3222,x=[1.271 1.119],x.grad=[-50.966 -36.574]\n",
      "i:2000,f=13.69567,x=[2.333 1.954],x.grad=[-35.349 -13.864]\n",
      "i:3000,f=0.66671,x=[2.852 2.114],x.grad=[-7.935  1.216]\n",
      "i:4000,f=0.01479,x=[2.982 2.027],x.grad=[-0.78   0.579]\n",
      "i:5000,f=4e-05,x=[2.999 2.001],x.grad=[-0.035  0.033]\n",
      "i:6000,f=0.0,x=[3. 2.],x.grad=[-0.001  0.   ]\n",
      "i:7000,f=0.0,x=[3. 2.],x.grad=[-0.  0.]\n",
      "i:8000,f=0.0,x=[3. 2.],x.grad=[-0.  0.]\n",
      "i:9000,f=0.0,x=[3. 2.],x.grad=[-0.  0.]\n",
      "i:10000,f=0.0,x=[3. 2.],x.grad=[-0.  0.]\n",
      "i:11000,f=0.0,x=[3. 2.],x.grad=[-0.  0.]\n",
      "i:12000,f=0.0,x=[3. 2.],x.grad=[-0.  0.]\n",
      "i:13000,f=0.0,x=[3. 2.],x.grad=[-0.  0.]\n",
      "i:14000,f=0.0,x=[3. 2.],x.grad=[-0.  0.]\n",
      "i:15000,f=0.0,x=[3. 2.],x.grad=[0. 0.]\n",
      "i:16000,f=0.0,x=[3. 2.],x.grad=[0. 0.]\n",
      "i:17000,f=0.0,x=[3. 2.],x.grad=[0. 0.]\n",
      "i:18000,f=0.0,x=[3. 2.],x.grad=[0. 0.]\n",
      "i:19000,f=0.0,x=[3. 2.],x.grad=[0. 0.]\n"
     ]
    }
   ],
   "source": [
    "init=[0,0]\n",
    "x=torch.tensor(init,requires_grad=True,dtype=torch.float)\n",
    "opt=torch.optim.Adam([x])\n",
    "f=himmelblau(x)\n",
    "print('with init-vals:{}'.format(init))\n",
    "for i in range(20000):\n",
    "    opt.zero_grad()\n",
    "    f.backward()\n",
    "    opt.step()\n",
    "    \n",
    "    f=himmelblau(x)\n",
    "    if i % 1000 == 0:\n",
    "        print('i:{},f={},x={},x.grad={}'.format(i,np.round(f.tolist(),5),np.round(x.tolist(),3),np.round(x.grad.tolist(),3)))"
   ]
  },
  {
   "cell_type": "code",
   "execution_count": 34,
   "metadata": {},
   "outputs": [
    {
     "name": "stdout",
     "output_type": "stream",
     "text": [
      "with init-vals:[-1, 0]\n",
      "i:0,f=163.95598,x=[-1.001e+00  1.000e-03],x.grad=[ 24. -20.]\n",
      "i:1000,f=89.13893,x=[-2.067  1.192],x.grad=[ 30.501 -47.504]\n",
      "i:2000,f=20.42502,x=[-2.704  2.323],x.grad=[  6.16  -42.788]\n",
      "i:3000,f=0.94888,x=[-2.8    2.974],x.grad=[  0.157 -11.771]\n",
      "i:4000,f=0.0021,x=[-2.805  3.124],x.grad=[ 0.008 -0.581]\n",
      "i:5000,f=0.0,x=[-2.805  3.131],x.grad=[ 0.001 -0.003]\n",
      "i:6000,f=0.0,x=[-2.805  3.131],x.grad=[ 0.    -0.001]\n",
      "i:7000,f=0.0,x=[-2.805  3.131],x.grad=[ 0.    -0.001]\n",
      "i:8000,f=0.0,x=[-2.805  3.131],x.grad=[ 0. -0.]\n",
      "i:9000,f=0.0,x=[-2.805  3.131],x.grad=[ 0. -0.]\n",
      "i:10000,f=0.0,x=[-2.805  3.131],x.grad=[ 0. -0.]\n",
      "i:11000,f=0.0,x=[-2.805  3.131],x.grad=[ 0. -0.]\n",
      "i:12000,f=0.0,x=[-2.805  3.131],x.grad=[-0. -0.]\n",
      "i:13000,f=0.0,x=[-2.805  3.131],x.grad=[-0. -0.]\n",
      "i:14000,f=0.0,x=[-2.805  3.131],x.grad=[-0. -0.]\n",
      "i:15000,f=0.0,x=[-2.805  3.131],x.grad=[-0. -0.]\n",
      "i:16000,f=0.0,x=[-2.805  3.131],x.grad=[-0. -0.]\n",
      "i:17000,f=0.0,x=[-2.805  3.131],x.grad=[-0. -0.]\n",
      "i:18000,f=0.0,x=[-2.805  3.131],x.grad=[0. 0.]\n",
      "i:19000,f=0.0,x=[-2.805  3.131],x.grad=[-0. -0.]\n"
     ]
    }
   ],
   "source": [
    "init=[-1,0]\n",
    "x=torch.tensor(init,requires_grad=True,dtype=torch.float)\n",
    "opt=torch.optim.Adam([x])\n",
    "f=himmelblau(x)\n",
    "print('with init-vals:{}'.format(init))\n",
    "for i in range(20000):\n",
    "    opt.zero_grad()\n",
    "    f.backward()\n",
    "    opt.step()\n",
    "    \n",
    "    f=himmelblau(x)\n",
    "    if i % 1000 == 0:\n",
    "        print('i:{},f={},x={},x.grad={}'.format(i,np.round(f.tolist(),5),np.round(x.tolist(),3),np.round(x.grad.tolist(),3)))"
   ]
  },
  {
   "cell_type": "code",
   "execution_count": 35,
   "metadata": {},
   "outputs": [
    {
     "name": "stdout",
     "output_type": "stream",
     "text": [
      "with init-vals:[-4, 0]\n",
      "i:0,f=145.88806,x=[-3.999e+00 -1.000e-03],x.grad=[-102.   10.]\n",
      "i:1000,f=75.74881,x=[-3.404 -1.316],x.grad=[-7.427 44.155]\n",
      "i:2000,f=19.40986,x=[-3.527 -2.5  ],x.grad=[ 6.457 40.657]\n",
      "i:3000,f=0.76683,x=[-3.732 -3.144],x.grad=[ 1.529 10.263]\n",
      "i:4000,f=0.0012,x=[-3.777 -3.278],x.grad=[0.064 0.425]\n",
      "i:5000,f=0.0,x=[-3.779 -3.283],x.grad=[0.001 0.001]\n",
      "i:6000,f=0.0,x=[-3.779 -3.283],x.grad=[0.    0.001]\n",
      "i:7000,f=0.0,x=[-3.779 -3.283],x.grad=[0. 0.]\n",
      "i:8000,f=0.0,x=[-3.779 -3.283],x.grad=[0. 0.]\n",
      "i:9000,f=0.0,x=[-3.779 -3.283],x.grad=[0. 0.]\n",
      "i:10000,f=0.0,x=[-3.779 -3.283],x.grad=[0. 0.]\n",
      "i:11000,f=0.0,x=[-3.779 -3.283],x.grad=[0. 0.]\n",
      "i:12000,f=0.0,x=[-3.779 -3.283],x.grad=[-0.  0.]\n",
      "i:13000,f=0.0,x=[-3.779 -3.283],x.grad=[-0.  0.]\n",
      "i:14000,f=0.0,x=[-3.779 -3.283],x.grad=[0. 0.]\n",
      "i:15000,f=0.0,x=[-3.779 -3.283],x.grad=[0. 0.]\n",
      "i:16000,f=0.0,x=[-3.779 -3.283],x.grad=[0. 0.]\n",
      "i:17000,f=0.0,x=[-3.779 -3.283],x.grad=[0. 0.]\n",
      "i:18000,f=0.0,x=[-3.779 -3.283],x.grad=[0. 0.]\n",
      "i:19000,f=0.0,x=[-3.779 -3.283],x.grad=[0. 0.]\n"
     ]
    }
   ],
   "source": [
    "init=[-4,0]\n",
    "x=torch.tensor(init,requires_grad=True,dtype=torch.float)\n",
    "opt=torch.optim.Adam([x])\n",
    "f=himmelblau(x)\n",
    "print('with init-vals:{}'.format(init))\n",
    "for i in range(20000):\n",
    "    opt.zero_grad()\n",
    "    f.backward()\n",
    "    opt.step()\n",
    "    \n",
    "    f=himmelblau(x)\n",
    "    if i % 1000 == 0:\n",
    "        print('i:{},f={},x={},x.grad={}'.format(i,np.round(f.tolist(),5),np.round(x.tolist(),3),np.round(x.grad.tolist(),3)))"
   ]
  },
  {
   "cell_type": "code",
   "execution_count": 36,
   "metadata": {},
   "outputs": [
    {
     "name": "stdout",
     "output_type": "stream",
     "text": [
      "with init-vals:[4, 0]\n",
      "i:0,f=33.91608,x=[ 3.999e+00 -1.000e-03],x.grad=[74. 10.]\n",
      "i:1000,f=6.02157,x=[ 3.525 -1.027],x.grad=[ 0.761 10.738]\n",
      "i:2000,f=0.09837,x=[ 3.574 -1.764],x.grad=[-0.475  2.241]\n",
      "i:3000,f=0.0,x=[ 3.584 -1.848],x.grad=[-0.004  0.016]\n",
      "i:4000,f=0.0,x=[ 3.584 -1.848],x.grad=[-0.001  0.   ]\n",
      "i:5000,f=0.0,x=[ 3.584 -1.848],x.grad=[-0.  0.]\n",
      "i:6000,f=0.0,x=[ 3.584 -1.848],x.grad=[-0.  0.]\n",
      "i:7000,f=0.0,x=[ 3.584 -1.848],x.grad=[-0.  0.]\n",
      "i:8000,f=0.0,x=[ 3.584 -1.848],x.grad=[-0.  0.]\n",
      "i:9000,f=0.0,x=[ 3.584 -1.848],x.grad=[-0.  0.]\n",
      "i:10000,f=0.0,x=[ 3.584 -1.848],x.grad=[-0.  0.]\n",
      "i:11000,f=0.0,x=[ 3.584 -1.848],x.grad=[-0.  0.]\n",
      "i:12000,f=0.0,x=[ 3.584 -1.848],x.grad=[0. 0.]\n",
      "i:13000,f=0.0,x=[ 3.584 -1.848],x.grad=[0. 0.]\n",
      "i:14000,f=0.0,x=[ 3.584 -1.848],x.grad=[0. 0.]\n",
      "i:15000,f=0.0,x=[ 3.584 -1.848],x.grad=[0. 0.]\n",
      "i:16000,f=0.0,x=[ 3.584 -1.848],x.grad=[0. 0.]\n",
      "i:17000,f=0.0,x=[ 3.584 -1.848],x.grad=[0. 0.]\n",
      "i:18000,f=0.0,x=[ 3.584 -1.848],x.grad=[0. 0.]\n",
      "i:19000,f=0.0,x=[ 3.584 -1.848],x.grad=[0. 0.]\n"
     ]
    }
   ],
   "source": [
    "init=[4,0]\n",
    "x=torch.tensor(init,requires_grad=True,dtype=torch.float)\n",
    "opt=torch.optim.Adam([x])\n",
    "f=himmelblau(x)\n",
    "print('with init-vals:{}'.format(init))\n",
    "for i in range(20000):\n",
    "    opt.zero_grad()\n",
    "    f.backward()\n",
    "    opt.step()\n",
    "    \n",
    "    f=himmelblau(x)\n",
    "    if i % 1000 == 0:\n",
    "        print('i:{},f={},x={},x.grad={}'.format(i,np.round(f.tolist(),5),np.round(x.tolist(),3),np.round(x.grad.tolist(),3)))"
   ]
  },
  {
   "cell_type": "code",
   "execution_count": 40,
   "metadata": {},
   "outputs": [
    {
     "name": "stdout",
     "output_type": "stream",
     "text": [
      "with init-vals:[0, 0]\n",
      "i:0,f=169.96396,x=[0.001 0.001],x.grad=[-14. -22.]\n",
      "i:1000,f=88.3222,x=[1.271 1.119],x.grad=[-50.966 -36.574]\n",
      "i:2000,f=13.69567,x=[2.333 1.954],x.grad=[-35.349 -13.864]\n",
      "i:3000,f=0.66671,x=[2.852 2.114],x.grad=[-7.935  1.216]\n",
      "i:4000,f=0.01479,x=[2.982 2.027],x.grad=[-0.78   0.579]\n",
      "i:5000,f=4e-05,x=[2.999 2.001],x.grad=[-0.035  0.033]\n",
      "i:6000,f=0.0,x=[3. 2.],x.grad=[-0.001  0.   ]\n",
      "i:7000,f=0.0,x=[3. 2.],x.grad=[-0.  0.]\n",
      "i:8000,f=0.0,x=[3. 2.],x.grad=[-0.  0.]\n",
      "i:9000,f=0.0,x=[3. 2.],x.grad=[-0.  0.]\n",
      "i:10000,f=0.0,x=[3. 2.],x.grad=[-0.  0.]\n",
      "i:11000,f=0.0,x=[3. 2.],x.grad=[-0.  0.]\n",
      "i:12000,f=0.0,x=[3. 2.],x.grad=[-0.  0.]\n",
      "i:13000,f=0.0,x=[3. 2.],x.grad=[-0.  0.]\n",
      "i:14000,f=0.0,x=[3. 2.],x.grad=[-0.  0.]\n",
      "i:15000,f=0.0,x=[3. 2.],x.grad=[0. 0.]\n",
      "i:16000,f=0.0,x=[3. 2.],x.grad=[0. 0.]\n",
      "i:17000,f=0.0,x=[3. 2.],x.grad=[0. 0.]\n",
      "i:18000,f=0.0,x=[3. 2.],x.grad=[0. 0.]\n",
      "i:19000,f=0.0,x=[3. 2.],x.grad=[0. 0.]\n"
     ]
    }
   ],
   "source": [
    "from torch.autograd import Variable\n",
    "init=[0,0]\n",
    "x=torch.tensor(init,dtype=torch.float)\n",
    "x=Variable(x,requires_grad=True)\n",
    "opt=torch.optim.Adam([x])\n",
    "f=himmelblau(x)\n",
    "print('with init-vals:{}'.format(init))\n",
    "for i in range(20000):\n",
    "    opt.zero_grad()\n",
    "    f.backward()\n",
    "    opt.step()\n",
    "    \n",
    "    f=himmelblau(x)\n",
    "    if i % 1000 == 0:\n",
    "        print('i:{},f={},x={},x.grad={}'.format(i,np.round(f.tolist(),5),np.round(x.tolist(),3),np.round(x.grad.tolist(),3)))"
   ]
  },
  {
   "cell_type": "code",
   "execution_count": null,
   "metadata": {
    "collapsed": true
   },
   "outputs": [],
   "source": []
  }
 ],
 "metadata": {
  "kernelspec": {
   "display_name": "Python 3",
   "language": "python",
   "name": "python3"
  },
  "language_info": {
   "codemirror_mode": {
    "name": "ipython",
    "version": 3
   },
   "file_extension": ".py",
   "mimetype": "text/x-python",
   "name": "python",
   "nbconvert_exporter": "python",
   "pygments_lexer": "ipython3",
   "version": "3.6.1"
  }
 },
 "nbformat": 4,
 "nbformat_minor": 2
}
