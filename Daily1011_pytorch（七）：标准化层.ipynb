{
 "cells": [
  {
   "cell_type": "code",
   "execution_count": 1,
   "metadata": {
    "collapsed": true
   },
   "outputs": [],
   "source": [
    "import numpy as np\n",
    "import torch\n",
    "import torch.nn as nn\n",
    "import matplotlib.pyplot as plt\n",
    "%matplotlib inline"
   ]
  },
  {
   "cell_type": "code",
   "execution_count": 2,
   "metadata": {},
   "outputs": [
    {
     "data": {
      "text/plain": [
       "tensor([[ 1.,  2.,  3.,  4.],\n",
       "        [ 5.,  6.,  7.,  8.],\n",
       "        [ 9., 10., 11., 12.]])"
      ]
     },
     "execution_count": 2,
     "metadata": {},
     "output_type": "execute_result"
    }
   ],
   "source": [
    "##>1. BatchNorm1d\n",
    "x=torch.arange(1,13,dtype=torch.float).reshape(3,4)\n",
    "x"
   ]
  },
  {
   "cell_type": "code",
   "execution_count": 3,
   "metadata": {},
   "outputs": [
    {
     "data": {
      "text/plain": [
       "tensor([[-0.3910, -0.0201, -0.2852, -0.3220],\n",
       "        [ 0.0000,  0.0000,  0.0000,  0.0000],\n",
       "        [ 0.3910,  0.0201,  0.2852,  0.3220]],\n",
       "       grad_fn=<ThnnBatchNormBackward>)"
      ]
     },
     "execution_count": 3,
     "metadata": {},
     "output_type": "execute_result"
    }
   ],
   "source": [
    "m=nn.BatchNorm1d(4)##参数或者是通道数，或者是长度\n",
    "m(x)"
   ]
  },
  {
   "cell_type": "code",
   "execution_count": 4,
   "metadata": {},
   "outputs": [
    {
     "data": {
      "text/plain": [
       "tensor([5., 6., 7., 8.])"
      ]
     },
     "execution_count": 4,
     "metadata": {},
     "output_type": "execute_result"
    }
   ],
   "source": [
    "mean=torch.mean(x,dim=0)\n",
    "mean"
   ]
  },
  {
   "cell_type": "code",
   "execution_count": 5,
   "metadata": {},
   "outputs": [
    {
     "data": {
      "text/plain": [
       "tensor([4., 4., 4., 4.])"
      ]
     },
     "execution_count": 5,
     "metadata": {},
     "output_type": "execute_result"
    }
   ],
   "source": [
    "std=torch.std(x,dim=0)\n",
    "std"
   ]
  },
  {
   "cell_type": "code",
   "execution_count": 6,
   "metadata": {},
   "outputs": [
    {
     "data": {
      "text/plain": [
       "tensor([[-1., -1., -1., -1.],\n",
       "        [ 0.,  0.,  0.,  0.],\n",
       "        [ 1.,  1.,  1.,  1.]])"
      ]
     },
     "execution_count": 6,
     "metadata": {},
     "output_type": "execute_result"
    }
   ],
   "source": [
    "(x-mean)/std"
   ]
  },
  {
   "cell_type": "markdown",
   "metadata": {},
   "source": [
    "### 对比out3与out6，同样是标准化，结果不太一样\n",
    "参考:https://pytorch.org/docs/stable/nn.html#torch.nn.BatchNorm1d"
   ]
  },
  {
   "cell_type": "code",
   "execution_count": 11,
   "metadata": {},
   "outputs": [
    {
     "data": {
      "text/plain": [
       "tensor([[[[ 0.,  1.,  2.,  3.],\n",
       "          [ 4.,  5.,  6.,  7.],\n",
       "          [ 8.,  9., 10., 11.],\n",
       "          [12., 13., 14., 15.]],\n",
       "\n",
       "         [[16., 17., 18., 19.],\n",
       "          [20., 21., 22., 23.],\n",
       "          [24., 25., 26., 27.],\n",
       "          [28., 29., 30., 31.]]]])"
      ]
     },
     "execution_count": 11,
     "metadata": {},
     "output_type": "execute_result"
    }
   ],
   "source": [
    "##>2. BatchNorm2d\n",
    "x=torch.arange(32,dtype=torch.float).reshape(1,2,4,4)\n",
    "m=nn.BatchNorm2d(2)##参数是通道数\n",
    "x"
   ]
  },
  {
   "cell_type": "code",
   "execution_count": 12,
   "metadata": {},
   "outputs": [
    {
     "data": {
      "text/plain": [
       "tensor([[[[-0.9850, -0.8537, -0.7224, -0.5910],\n",
       "          [-0.4597, -0.3283, -0.1970, -0.0657],\n",
       "          [ 0.0657,  0.1970,  0.3283,  0.4597],\n",
       "          [ 0.5910,  0.7224,  0.8537,  0.9850]],\n",
       "\n",
       "         [[-1.5173, -1.3150, -1.1127, -0.9104],\n",
       "          [-0.7081, -0.5058, -0.3035, -0.1012],\n",
       "          [ 0.1012,  0.3035,  0.5058,  0.7081],\n",
       "          [ 0.9104,  1.1127,  1.3150,  1.5173]]]],\n",
       "       grad_fn=<ThnnBatchNormBackward>)"
      ]
     },
     "execution_count": 12,
     "metadata": {},
     "output_type": "execute_result"
    }
   ],
   "source": [
    "m(x)"
   ]
  },
  {
   "cell_type": "code",
   "execution_count": 15,
   "metadata": {},
   "outputs": [
    {
     "data": {
      "text/plain": [
       "tensor([[[[ 0.,  1.],\n",
       "          [ 2.,  3.]],\n",
       "\n",
       "         [[ 4.,  5.],\n",
       "          [ 6.,  7.]],\n",
       "\n",
       "         [[ 8.,  9.],\n",
       "          [10., 11.]],\n",
       "\n",
       "         [[12., 13.],\n",
       "          [14., 15.]],\n",
       "\n",
       "         [[16., 17.],\n",
       "          [18., 19.]],\n",
       "\n",
       "         [[20., 21.],\n",
       "          [22., 23.]]]])"
      ]
     },
     "execution_count": 15,
     "metadata": {},
     "output_type": "execute_result"
    }
   ],
   "source": [
    "##>3. GroupNormal\n",
    "##把通道分组然后进行标准化\n",
    "x=torch.arange(24,dtype=torch.float).reshape(1,6,2,2)\n",
    "m=nn.GroupNorm(3,6)##6个通道分为3组\n",
    "x"
   ]
  },
  {
   "cell_type": "code",
   "execution_count": 16,
   "metadata": {},
   "outputs": [
    {
     "data": {
      "text/plain": [
       "tensor([[[[-1.5275, -1.0911],\n",
       "          [-0.6547, -0.2182]],\n",
       "\n",
       "         [[ 0.2182,  0.6547],\n",
       "          [ 1.0911,  1.5275]],\n",
       "\n",
       "         [[-1.5275, -1.0911],\n",
       "          [-0.6547, -0.2182]],\n",
       "\n",
       "         [[ 0.2182,  0.6547],\n",
       "          [ 1.0911,  1.5275]],\n",
       "\n",
       "         [[-1.5275, -1.0911],\n",
       "          [-0.6547, -0.2182]],\n",
       "\n",
       "         [[ 0.2182,  0.6547],\n",
       "          [ 1.0911,  1.5275]]]], grad_fn=<AddcmulBackward>)"
      ]
     },
     "execution_count": 16,
     "metadata": {},
     "output_type": "execute_result"
    }
   ],
   "source": [
    "m(x)"
   ]
  },
  {
   "cell_type": "code",
   "execution_count": 19,
   "metadata": {},
   "outputs": [
    {
     "data": {
      "text/plain": [
       "tensor([[[-1.0000,  1.0000],\n",
       "         [-1.0000,  1.0000],\n",
       "         [-1.0000,  1.0000]],\n",
       "\n",
       "        [[-1.0000,  1.0000],\n",
       "         [-1.0000,  1.0000],\n",
       "         [-1.0000,  1.0000]]])"
      ]
     },
     "execution_count": 19,
     "metadata": {},
     "output_type": "execute_result"
    }
   ],
   "source": [
    "##>4. 一维实例标准化 InstanceNorm1d\n",
    "x=torch.arange(1,13,dtype=torch.float).reshape(2,3,2)\n",
    "m=nn.InstanceNorm1d(3)##参数是通道数\n",
    "m(x)"
   ]
  },
  {
   "cell_type": "code",
   "execution_count": 20,
   "metadata": {},
   "outputs": [
    {
     "data": {
      "text/plain": [
       "tensor([[[[-1.6270, -1.4100, -1.1931, -0.9762],\n",
       "          [-0.7593, -0.5423, -0.3254, -0.1085],\n",
       "          [ 0.1085,  0.3254,  0.5423,  0.7593],\n",
       "          [ 0.9762,  1.1931,  1.4100,  1.6270]],\n",
       "\n",
       "         [[-1.6270, -1.4100, -1.1931, -0.9762],\n",
       "          [-0.7593, -0.5423, -0.3254, -0.1085],\n",
       "          [ 0.1085,  0.3254,  0.5423,  0.7593],\n",
       "          [ 0.9762,  1.1931,  1.4100,  1.6270]]]])"
      ]
     },
     "execution_count": 20,
     "metadata": {},
     "output_type": "execute_result"
    }
   ],
   "source": [
    "##>5. 二维实例标准化 InstanceNorm2d\n",
    "x=torch.arange(32,dtype=torch.float).reshape(1,2,4,4)\n",
    "m=nn.InstanceNorm2d(4)\n",
    "m(x)"
   ]
  },
  {
   "cell_type": "code",
   "execution_count": 21,
   "metadata": {
    "collapsed": true
   },
   "outputs": [],
   "source": [
    "##>6. 层标准化LayerNormalization"
   ]
  },
  {
   "cell_type": "code",
   "execution_count": null,
   "metadata": {
    "collapsed": true
   },
   "outputs": [],
   "source": [
    "##>7. LocalResponseNorm"
   ]
  }
 ],
 "metadata": {
  "kernelspec": {
   "display_name": "Python 3",
   "language": "python",
   "name": "python3"
  },
  "language_info": {
   "codemirror_mode": {
    "name": "ipython",
    "version": 3
   },
   "file_extension": ".py",
   "mimetype": "text/x-python",
   "name": "python",
   "nbconvert_exporter": "python",
   "pygments_lexer": "ipython3",
   "version": "3.6.1"
  }
 },
 "nbformat": 4,
 "nbformat_minor": 2
}
