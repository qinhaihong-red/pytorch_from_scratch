{
 "cells": [
  {
   "cell_type": "code",
   "execution_count": 1,
   "metadata": {
    "collapsed": true
   },
   "outputs": [],
   "source": [
    "import numpy as np\n",
    "import torch\n",
    "import torch.nn as nn\n",
    "import torch.nn.functional as F\n",
    "import matplotlib.pyplot as plt\n",
    "import torch.utils.data as data\n",
    "import torchvision as tv\n",
    "import torchvision.transforms as tf\n",
    "from PIL import Image\n",
    "%matplotlib inline"
   ]
  },
  {
   "cell_type": "markdown",
   "metadata": {},
   "source": [
    "#  0. 模型使用简单示例 torchvision.models"
   ]
  },
  {
   "cell_type": "markdown",
   "metadata": {},
   "source": [
    "### 0.1 标准化参数：所有预训练模型使用如下的标准化参数，按通道分，各通道的参数不同"
   ]
  },
  {
   "cell_type": "code",
   "execution_count": 5,
   "metadata": {},
   "outputs": [],
   "source": [
    "normalize = tv.transforms.Normalize(mean=[0.485, 0.456, 0.406],\n",
    "                                     std=[0.229, 0.224, 0.225])"
   ]
  },
  {
   "cell_type": "markdown",
   "metadata": {},
   "source": [
    "### 0.2 数据加载：使用ImageFolder，注意目录布局应符合要求"
   ]
  },
  {
   "cell_type": "code",
   "execution_count": 44,
   "metadata": {},
   "outputs": [],
   "source": [
    "train_loader = torch.utils.data.DataLoader(\n",
    "        tv.datasets.ImageFolder('./data/images/', tv.transforms.Compose([\n",
    "            tv.transforms.RandomResizedCrop(224),\n",
    "            tv.transforms.RandomHorizontalFlip(),\n",
    "            tv.transforms.ToTensor(),\n",
    "            normalize,\n",
    "        ])),\n",
    "        batch_size=2, shuffle=True)"
   ]
  },
  {
   "cell_type": "markdown",
   "metadata": {},
   "source": [
    "### 0.3 定义模型、误差函数、优化器\n",
    "\n",
    "对于模型应修改全连接层（默认输出1000各分类），使之符合实际需求.\n",
    "\n",
    "这里仅供展示，没有做出修改."
   ]
  },
  {
   "cell_type": "code",
   "execution_count": 61,
   "metadata": {},
   "outputs": [],
   "source": [
    "model=tv.models.vgg16(pretrained=True)\n",
    "E=nn.CrossEntropyLoss()\n",
    "opt=torch.optim.SGD(model.parameters(),0.1,momentum=0.9,weight_decay=1e-4)"
   ]
  },
  {
   "cell_type": "markdown",
   "metadata": {},
   "source": [
    "### 0.4 定义训练和验证函数进行迭代训练与验证\n",
    "\n",
    "注意应该是双循环，外部是对epoch进行迭代，内部是对mini-batch进行迭代"
   ]
  },
  {
   "cell_type": "code",
   "execution_count": 95,
   "metadata": {
    "collapsed": true
   },
   "outputs": [],
   "source": [
    "def train(model,train_loader,E,opt):\n",
    "    model.train()\n",
    "    for i ,(input,target) in enumerate(train_loader):\n",
    "        print(i,'--',input.shape,'--',target)\n",
    "        \n",
    "        output=model(input)\n",
    "        print(output.shape)\n",
    "        loss=E(output,target)\n",
    "        \n",
    "        \n",
    "        opt.zero_grad()\n",
    "        loss.backward()\n",
    "        opt.step()"
   ]
  },
  {
   "cell_type": "code",
   "execution_count": 96,
   "metadata": {},
   "outputs": [
    {
     "name": "stdout",
     "output_type": "stream",
     "text": [
      "0 -- torch.Size([2, 3, 224, 224]) -- tensor([1, 1])\n",
      "torch.Size([2, 1000])\n",
      "1 -- torch.Size([2, 3, 224, 224]) -- tensor([0, 0])\n",
      "torch.Size([2, 1000])\n",
      "2 -- torch.Size([1, 3, 224, 224]) -- tensor([0])\n",
      "torch.Size([1, 1000])\n"
     ]
    }
   ],
   "source": [
    "train(model,train_loader,E,opt)"
   ]
  },
  {
   "cell_type": "markdown",
   "metadata": {},
   "source": [
    "# 1.模型\n",
    "\n",
    "所有模型期望的输入都相同，即满足如下条件：\n",
    " \n",
    "- 形状为（C,H,W）的三通道RGB小批图像，高和宽至少为224\n",
    "\n",
    "- 图像数据为[0,1]之间的浮点数\n",
    "\n",
    "- 使用 mean=[0.485, 0.456, 0.406],std=[0.229, 0.224, 0.225] 进行标准化.\n",
    "\n",
    "\n",
    "可通过使用组合变换实现上述要求.\n",
    "\n",
    "有些模型具有不同的训练和评估行为，比如批标准化. 通过使用train()和eval()方法，可以在这两种模式之间切换."
   ]
  },
  {
   "cell_type": "code",
   "execution_count": null,
   "metadata": {
    "collapsed": true
   },
   "outputs": [],
   "source": []
  }
 ],
 "metadata": {
  "kernelspec": {
   "display_name": "Python 3",
   "language": "python",
   "name": "python3"
  },
  "language_info": {
   "codemirror_mode": {
    "name": "ipython",
    "version": 3
   },
   "file_extension": ".py",
   "mimetype": "text/x-python",
   "name": "python",
   "nbconvert_exporter": "python",
   "pygments_lexer": "ipython3",
   "version": "3.6.1"
  }
 },
 "nbformat": 4,
 "nbformat_minor": 2
}
