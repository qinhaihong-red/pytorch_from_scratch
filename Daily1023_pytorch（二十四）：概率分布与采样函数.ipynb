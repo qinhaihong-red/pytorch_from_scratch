{
 "cells": [
  {
   "cell_type": "code",
   "execution_count": 1,
   "metadata": {
    "collapsed": true
   },
   "outputs": [],
   "source": [
    "import numpy as np\n",
    "import torch\n",
    "import torch.nn as nn\n",
    "import torch.nn.functional as F\n",
    "import matplotlib.pyplot as plt\n",
    "import torch.utils.data as data\n",
    "import torchvision as tv\n",
    "import torchvision.transforms as tf\n",
    "import torchvision.models as mod\n",
    "import torch.distributions as distributions\n",
    "from PIL import Image\n",
    "%matplotlib inline"
   ]
  },
  {
   "cell_type": "markdown",
   "metadata": {},
   "source": [
    "# 1.概率分布包：torch.distributions\n",
    "\n",
    "概率分布包，torch.distributions，包括可参数化的概率分布和采样函数.\n",
    "\n",
    "这将允许为优化问题构造随机计算图(stochastic computation graphs)和随机梯度估计(stochastic gradient estimators).\n",
    "\n",
    "这个包大体上遵循 TensorFlow Distributions 的设计.\n",
    "\n",
    "不可能经过随机样本直接进行反向传播. 但是有两个主要办法通过创建代理函数，可以使得反向传播通过.\n",
    "\n",
    "这就是：得分函数估计（score funciton estimator）、似然比估计（likehood ratio estimator）、增强和路径导数估计（REINFORCE and pathwise derivative estimator）.\n",
    "\n",
    "作为增强学习中策略梯度方法的基础，增强（REINFORCE）在增强学习会经常被看到. 同时，路径导数估计作为变分自动编码器中重参数化的技巧，也在其中经常使用.\n",
    "\n",
    "同时，得分函数仅需要样本函数的值；路径导数需要函数的导数.\n",
    "\n",
    "下面在增强学习示例中讨论 得分函数 和 路径导数."
   ]
  },
  {
   "cell_type": "markdown",
   "metadata": {},
   "source": [
    "## 1.1 得分函数 Score Function\n",
    "\n",
    "当概率密度函数关于它的参数可微时，仅需要sample()和log_prog()就可实现REINFORCE：\n",
    "\n",
    "$\\Delta \\theta=\\alpha r \\frac{\\partial \\log p( a\\mid \\pi^{\\theta}(s))}{\\partial \\theta}$\n",
    "\n",
    "其中,$\\theta$表示全部参数，$\\alpha$表示学习率, $r$表示回报.\n",
    "\n",
    "$p( a\\mid \\pi^{\\theta}(s))$表示在状态s时给定策略$\\pi^{\\theta}$，采取行动a的概率."
   ]
  },
  {
   "cell_type": "markdown",
   "metadata": {},
   "source": [
    "在实际中，我们会从网络的输出中采样行动，把这个行动作用于一个环境，然后使用log_prob来构造等价的损失函数.\n",
    "\n",
    "需要注意，我们使用一个负号，因为优化器使用梯度下降，而上述的假设是梯度上升.\n",
    "\n",
    "通过使用分类策略，实现REINFORCE的代码如下：\n",
    "\n",
    "见:https://pytorch.org/docs/stable/distributions.html#score-function"
   ]
  },
  {
   "cell_type": "markdown",
   "metadata": {},
   "source": [
    "## 1.2 路径导数 Pathwise Derivative\n",
    "\n",
    "另一种实现这种随机梯度或策略梯度的方法，是通过resample()方法，使用重参数化技巧. 因为在resample()方法中，参数化的随机变量，可以通过无参数随机变量的参数化确定性函数来构造.(大概是通过简单抽样来获得复杂的抽样).重参数的样本因此变得可微分.\n",
    "\n",
    "代码示例见:https://pytorch.org/docs/stable/distributions.html#pathwise-derivative"
   ]
  },
  {
   "cell_type": "markdown",
   "metadata": {},
   "source": [
    "# 2.分布函数类\n",
    "\n",
    "## 2.1 所有概率分布的抽象基类：class torch.distributions.distribution.Distribution\n",
    "\n",
    "见：https://pytorch.org/docs/stable/distributions.html#torch.distributions.distribution.Distribution"
   ]
  },
  {
   "cell_type": "markdown",
   "metadata": {},
   "source": [
    "## 2.2 指数族分布的抽象基类：class torch.distributions.exp_family.ExponentialFamily\n",
    "\n",
    "见：https://pytorch.org/docs/stable/distributions.html#torch.distributions.exp_family.ExponentialFamily"
   ]
  },
  {
   "cell_type": "markdown",
   "metadata": {},
   "source": [
    "## 2.3 bernoulli分布\n",
    "\n",
    "以指数族分布为基类.\n",
    "\n",
    "创建一个以probs或logits为参数的bernoulli分布: 样本为0或者1，以probs概率采样到1 ，以1-probs概率采样到0.\n",
    "\n",
    "\n",
    "即概率分布为：\n",
    "\n",
    "$p(x \\mid u) = u^{x}(1-u)^{1-x}, x=0或1, 0 \\le u \\le 1 且p(x = 1) = u.$\n",
    "\n",
    "__它的广义形式为 范畴分布 Categorical Distribution，即广义的bernoulli分布.__"
   ]
  },
  {
   "cell_type": "code",
   "execution_count": 5,
   "metadata": {
    "collapsed": true
   },
   "outputs": [],
   "source": [
    "##构造p=0.5的bernoulli分布\n",
    "bern=distributions.bernoulli.Bernoulli(0.5)"
   ]
  },
  {
   "cell_type": "code",
   "execution_count": 10,
   "metadata": {},
   "outputs": [
    {
     "data": {
      "text/plain": [
       "tensor(0.)"
      ]
     },
     "execution_count": 10,
     "metadata": {},
     "output_type": "execute_result"
    }
   ],
   "source": [
    "##单个采样\n",
    "bern.sample()"
   ]
  },
  {
   "cell_type": "code",
   "execution_count": 19,
   "metadata": {},
   "outputs": [
    {
     "data": {
      "text/plain": [
       "tensor([1., 1., 1., 1., 0.])"
      ]
     },
     "execution_count": 19,
     "metadata": {},
     "output_type": "execute_result"
    }
   ],
   "source": [
    "##批采样\n",
    "bern.sample((5,))"
   ]
  },
  {
   "cell_type": "code",
   "execution_count": 12,
   "metadata": {},
   "outputs": [
    {
     "data": {
      "text/plain": [
       "tensor(0.5000)"
      ]
     },
     "execution_count": 12,
     "metadata": {},
     "output_type": "execute_result"
    }
   ],
   "source": [
    "##均值\n",
    "bern.mean"
   ]
  },
  {
   "cell_type": "code",
   "execution_count": 13,
   "metadata": {},
   "outputs": [
    {
     "data": {
      "text/plain": [
       "tensor(0.5000)"
      ]
     },
     "execution_count": 13,
     "metadata": {},
     "output_type": "execute_result"
    }
   ],
   "source": [
    "##标准差\n",
    "bern.stddev"
   ]
  },
  {
   "cell_type": "code",
   "execution_count": 15,
   "metadata": {},
   "outputs": [
    {
     "data": {
      "text/plain": [
       "tensor(0.2500)"
      ]
     },
     "execution_count": 15,
     "metadata": {},
     "output_type": "execute_result"
    }
   ],
   "source": [
    "##方差\n",
    "bern.variance"
   ]
  },
  {
   "cell_type": "code",
   "execution_count": 17,
   "metadata": {},
   "outputs": [
    {
     "data": {
      "text/plain": [
       "tensor(0.6931)"
      ]
     },
     "execution_count": 17,
     "metadata": {},
     "output_type": "execute_result"
    }
   ],
   "source": [
    "##熵：平均信息量\n",
    "bern.entropy()"
   ]
  },
  {
   "cell_type": "code",
   "execution_count": 20,
   "metadata": {},
   "outputs": [
    {
     "data": {
      "text/plain": [
       "torch.Size([])"
      ]
     },
     "execution_count": 20,
     "metadata": {},
     "output_type": "execute_result"
    }
   ],
   "source": [
    "bern.param_shape"
   ]
  },
  {
   "cell_type": "markdown",
   "metadata": {},
   "source": [
    "## 2.4 beta分布\n",
    "\n",
    "以指数族为基类.\n",
    "\n",
    "以concentration1($\\alpha$，第一个参数) 和 concentration0($\\beta$，第二个参数)为参数构建."
   ]
  },
  {
   "cell_type": "code",
   "execution_count": 21,
   "metadata": {
    "collapsed": true
   },
   "outputs": [],
   "source": [
    "beta=distributions.beta.Beta(0.5,0.5)"
   ]
  },
  {
   "cell_type": "code",
   "execution_count": 22,
   "metadata": {},
   "outputs": [
    {
     "data": {
      "text/plain": [
       "tensor(0.9007)"
      ]
     },
     "execution_count": 22,
     "metadata": {},
     "output_type": "execute_result"
    }
   ],
   "source": [
    "beta.sample()"
   ]
  },
  {
   "cell_type": "code",
   "execution_count": 24,
   "metadata": {},
   "outputs": [
    {
     "data": {
      "text/plain": [
       "tensor([[0.1234, 0.7893, 0.4707],\n",
       "        [0.8890, 0.0053, 0.2972]])"
      ]
     },
     "execution_count": 24,
     "metadata": {},
     "output_type": "execute_result"
    }
   ],
   "source": [
    "beta.sample((2,3))"
   ]
  },
  {
   "cell_type": "code",
   "execution_count": 25,
   "metadata": {},
   "outputs": [
    {
     "data": {
      "text/plain": [
       "tensor(0.5000)"
      ]
     },
     "execution_count": 25,
     "metadata": {},
     "output_type": "execute_result"
    }
   ],
   "source": [
    "beta.mean"
   ]
  },
  {
   "cell_type": "code",
   "execution_count": 26,
   "metadata": {},
   "outputs": [
    {
     "data": {
      "text/plain": [
       "tensor(0.3536)"
      ]
     },
     "execution_count": 26,
     "metadata": {},
     "output_type": "execute_result"
    }
   ],
   "source": [
    "beta.stddev"
   ]
  },
  {
   "cell_type": "code",
   "execution_count": 28,
   "metadata": {},
   "outputs": [
    {
     "data": {
      "text/plain": [
       "tensor(0.1250)"
      ]
     },
     "execution_count": 28,
     "metadata": {},
     "output_type": "execute_result"
    }
   ],
   "source": [
    "beta.variance"
   ]
  },
  {
   "cell_type": "code",
   "execution_count": 30,
   "metadata": {},
   "outputs": [
    {
     "data": {
      "text/plain": [
       "tensor(-0.2416)"
      ]
     },
     "execution_count": 30,
     "metadata": {},
     "output_type": "execute_result"
    }
   ],
   "source": [
    "beta.entropy()"
   ]
  },
  {
   "cell_type": "code",
   "execution_count": 31,
   "metadata": {},
   "outputs": [
    {
     "data": {
      "text/plain": [
       "tensor(0.5000)"
      ]
     },
     "execution_count": 31,
     "metadata": {},
     "output_type": "execute_result"
    }
   ],
   "source": [
    "beta.concentration0"
   ]
  },
  {
   "cell_type": "code",
   "execution_count": 32,
   "metadata": {},
   "outputs": [
    {
     "data": {
      "text/plain": [
       "tensor(0.5000)"
      ]
     },
     "execution_count": 32,
     "metadata": {},
     "output_type": "execute_result"
    }
   ],
   "source": [
    "beta.concentration1"
   ]
  },
  {
   "cell_type": "markdown",
   "metadata": {},
   "source": [
    "## 2.5 二项分布\n",
    "\n",
    "\n",
    "以Distribution为基类.\n",
    "\n",
    "- 第一个参数为bernoulli试验次数\n",
    "- 第二个参数为probs\n",
    "- 第三个参数为logits\n",
    "\n",
    "\n",
    "它的概率分布为：\n",
    "\n",
    "$p(x \\mid N, u) = C_{N}^{k}p^{k}(1-p)^{N-k}$\n",
    "\n",
    "__它的广义形式为 多项分布 Multinomial Distribution.__"
   ]
  },
  {
   "cell_type": "code",
   "execution_count": 33,
   "metadata": {},
   "outputs": [
    {
     "data": {
      "text/plain": [
       "tensor([4., 2., 0., 3., 4.])"
      ]
     },
     "execution_count": 33,
     "metadata": {},
     "output_type": "execute_result"
    }
   ],
   "source": [
    "binom=distributions.binomial.Binomial(10,0.3)\n",
    "binom.sample((5,))"
   ]
  },
  {
   "cell_type": "code",
   "execution_count": 39,
   "metadata": {},
   "outputs": [
    {
     "data": {
      "text/plain": [
       "tensor(3.)"
      ]
     },
     "execution_count": 39,
     "metadata": {},
     "output_type": "execute_result"
    }
   ],
   "source": [
    "binom.mean"
   ]
  },
  {
   "cell_type": "code",
   "execution_count": 40,
   "metadata": {},
   "outputs": [
    {
     "data": {
      "text/plain": [
       "tensor(2.1000)"
      ]
     },
     "execution_count": 40,
     "metadata": {},
     "output_type": "execute_result"
    }
   ],
   "source": [
    "binom.variance"
   ]
  },
  {
   "cell_type": "code",
   "execution_count": 6,
   "metadata": {},
   "outputs": [
    {
     "data": {
      "text/plain": [
       "tensor([0., 6.])"
      ]
     },
     "execution_count": 6,
     "metadata": {},
     "output_type": "execute_result"
    }
   ],
   "source": [
    "binom2=distributions.binomial.Binomial(10,torch.tensor([0.2,0.6]))##两个相互独立的试验，分布进行10次\n",
    "binom2.sample()"
   ]
  },
  {
   "cell_type": "code",
   "execution_count": 3,
   "metadata": {},
   "outputs": [
    {
     "data": {
      "text/plain": [
       "tensor([[1., 9., 0.],\n",
       "        [3., 7., 0.],\n",
       "        [4., 6., 0.],\n",
       "        [2., 7., 1.],\n",
       "        [3., 7., 0.]])"
      ]
     },
     "execution_count": 3,
     "metadata": {},
     "output_type": "execute_result"
    }
   ],
   "source": [
    "## Multinomial Distribution 多项分布，具体见2.19.\n",
    "multn=distributions.multinomial.Multinomial(10,torch.tensor([2.4,6.5,0.3]))##内部归一化\n",
    "multn.sample((5,))"
   ]
  },
  {
   "cell_type": "markdown",
   "metadata": {},
   "source": [
    "## 2.6 范畴分布 Categorical Distribution，又称为广义 bernoulli 分布\n",
    "\n",
    "\n",
    "\n",
    "__它是bernoulli分布的推广.__\n",
    "\n",
    "$x={x_{1},x_{2},...,x_{k}}$, x的分量采用one-of-k的方式（即2.22的OneHot形式）表示：\n",
    "\n",
    "且$x_{k}=0或1,\\sum_{k}^{K}x_{k}=1$，即x的分量中只有一个为1，其他都为0. 且$p(x_{k}) = u_{k},u_{k}\\ge 0, \\sum_{k}^{K}u_{k}=1$\n",
    "\n",
    "则  __范畴分布 categorical distribution的概率分布为：__\n",
    "\n",
    "\n",
    "$p(x \\mid u)=\\prod_{k}^{K}u_{k}^{x_{k}}$"
   ]
  },
  {
   "cell_type": "markdown",
   "metadata": {},
   "source": [
    "__注意：输入的概率张量，不要求和为1，只要求非负. 它内部会归一化处理__"
   ]
  },
  {
   "cell_type": "code",
   "execution_count": 4,
   "metadata": {},
   "outputs": [
    {
     "data": {
      "text/plain": [
       "tensor([1, 2, 0, 1, 0, 1, 0, 0, 2, 2])"
      ]
     },
     "execution_count": 4,
     "metadata": {},
     "output_type": "execute_result"
    }
   ],
   "source": [
    "cat=distributions.categorical.Categorical(torch.tensor([0.3,1,0.6]))##内部进行归一化\n",
    "cat.sample((10,))"
   ]
  },
  {
   "cell_type": "code",
   "execution_count": 53,
   "metadata": {},
   "outputs": [
    {
     "data": {
      "text/plain": [
       "tensor(nan)"
      ]
     },
     "execution_count": 53,
     "metadata": {},
     "output_type": "execute_result"
    }
   ],
   "source": [
    "cat.mean"
   ]
  },
  {
   "cell_type": "code",
   "execution_count": 54,
   "metadata": {},
   "outputs": [
    {
     "data": {
      "text/plain": [
       "tensor(nan)"
      ]
     },
     "execution_count": 54,
     "metadata": {},
     "output_type": "execute_result"
    }
   ],
   "source": [
    "cat.stddev"
   ]
  },
  {
   "cell_type": "markdown",
   "metadata": {},
   "source": [
    "## 2.7 柯西分布 Cauchy Distribution"
   ]
  },
  {
   "cell_type": "code",
   "execution_count": 55,
   "metadata": {},
   "outputs": [
    {
     "data": {
      "text/plain": [
       "tensor([-12.2510,  -3.6473,   0.4213])"
      ]
     },
     "execution_count": 55,
     "metadata": {},
     "output_type": "execute_result"
    }
   ],
   "source": [
    "cauchy=distributions.cauchy.Cauchy(0,1)\n",
    "cauchy.sample((3,))"
   ]
  },
  {
   "cell_type": "code",
   "execution_count": 56,
   "metadata": {},
   "outputs": [
    {
     "data": {
      "text/plain": [
       "tensor(0.5000)"
      ]
     },
     "execution_count": 56,
     "metadata": {},
     "output_type": "execute_result"
    }
   ],
   "source": [
    "##累积分布函数\n",
    "cauchy.cdf(0)"
   ]
  },
  {
   "cell_type": "code",
   "execution_count": 57,
   "metadata": {},
   "outputs": [
    {
     "data": {
      "text/plain": [
       "tensor(nan)"
      ]
     },
     "execution_count": 57,
     "metadata": {},
     "output_type": "execute_result"
    }
   ],
   "source": [
    "cauchy.mean"
   ]
  },
  {
   "cell_type": "markdown",
   "metadata": {},
   "source": [
    "## 2.8 Chi2分布\n",
    "\n",
    "见：https://pytorch.org/docs/stable/distributions.html#torch.distributions.chi2.Chi2"
   ]
  },
  {
   "cell_type": "markdown",
   "metadata": {},
   "source": [
    "## 2.9 迪利克雷分布 Dirichlet Distribution\n",
    "\n",
    "见：https://pytorch.org/docs/stable/distributions.html#torch.distributions.dirichlet.Dirichlet"
   ]
  },
  {
   "cell_type": "markdown",
   "metadata": {},
   "source": [
    "## 2.10 指数分布 Exponential Distribution\n"
   ]
  },
  {
   "cell_type": "code",
   "execution_count": 59,
   "metadata": {},
   "outputs": [
    {
     "data": {
      "text/plain": [
       "tensor(5.)"
      ]
     },
     "execution_count": 59,
     "metadata": {},
     "output_type": "execute_result"
    }
   ],
   "source": [
    "expo=distributions.exponential.Exponential(0.2)\n",
    "expo.mean"
   ]
  },
  {
   "cell_type": "code",
   "execution_count": 60,
   "metadata": {},
   "outputs": [
    {
     "data": {
      "text/plain": [
       "tensor([3.5006, 1.1961, 9.9056])"
      ]
     },
     "execution_count": 60,
     "metadata": {},
     "output_type": "execute_result"
    }
   ],
   "source": [
    "expo.sample((3,))"
   ]
  },
  {
   "cell_type": "code",
   "execution_count": 61,
   "metadata": {},
   "outputs": [
    {
     "data": {
      "text/plain": [
       "tensor([0.7276, 7.8601])"
      ]
     },
     "execution_count": 61,
     "metadata": {},
     "output_type": "execute_result"
    }
   ],
   "source": [
    "expo.rsample((2,))"
   ]
  },
  {
   "cell_type": "code",
   "execution_count": 62,
   "metadata": {},
   "outputs": [
    {
     "data": {
      "text/plain": [
       "tensor(0.6321)"
      ]
     },
     "execution_count": 62,
     "metadata": {},
     "output_type": "execute_result"
    }
   ],
   "source": [
    "expo.cdf(5)"
   ]
  },
  {
   "cell_type": "markdown",
   "metadata": {},
   "source": [
    "## 2.11 Fisher-Snedecor 分布"
   ]
  },
  {
   "cell_type": "markdown",
   "metadata": {},
   "source": [
    "## 2.12 Gamma分布\n",
    "\n",
    "- 第一个参数为concentration，即$\\alpha$\n",
    "\n",
    "- 第二个参数为比率，即$\\beta$"
   ]
  },
  {
   "cell_type": "code",
   "execution_count": 63,
   "metadata": {},
   "outputs": [
    {
     "data": {
      "text/plain": [
       "tensor([1.2861, 0.6661, 0.6356])"
      ]
     },
     "execution_count": 63,
     "metadata": {},
     "output_type": "execute_result"
    }
   ],
   "source": [
    "gamma=distributions.gamma.Gamma(1,1)\n",
    "gamma.sample((3,))"
   ]
  },
  {
   "cell_type": "markdown",
   "metadata": {},
   "source": [
    "## 2.13 几何分布 直到第k次成功的概率\n",
    "\n",
    "返回的样本值为[0,inf)"
   ]
  },
  {
   "cell_type": "code",
   "execution_count": 65,
   "metadata": {},
   "outputs": [
    {
     "data": {
      "text/plain": [
       "tensor(2.)"
      ]
     },
     "execution_count": 65,
     "metadata": {},
     "output_type": "execute_result"
    }
   ],
   "source": [
    "geo=distributions.geometric.Geometric(0.7)\n",
    "geo.sample()"
   ]
  },
  {
   "cell_type": "markdown",
   "metadata": {},
   "source": [
    "## 2.14 Gumbel 分布\n",
    "\n",
    "见：https://pytorch.org/docs/stable/distributions.html#torch.distributions.gumbel.Gumbel"
   ]
  },
  {
   "cell_type": "markdown",
   "metadata": {},
   "source": [
    "## 2.15 HalfCauchy 分布\n",
    "\n",
    "见：https://pytorch.org/docs/stable/distributions.html#torch.distributions.half_cauchy.HalfCauchy"
   ]
  },
  {
   "cell_type": "markdown",
   "metadata": {},
   "source": [
    "## 2.16 半正太分布 HalfNormal Distribution\n",
    "\n",
    "X ~ Normal(0, scale)\n",
    "\n",
    "Y = |X| ~ HalfNormal(scale)"
   ]
  },
  {
   "cell_type": "code",
   "execution_count": 68,
   "metadata": {},
   "outputs": [
    {
     "data": {
      "text/plain": [
       "tensor([0.2858, 0.2493, 0.3281])"
      ]
     },
     "execution_count": 68,
     "metadata": {},
     "output_type": "execute_result"
    }
   ],
   "source": [
    "hNorm=distributions.half_normal.HalfNormal(0.5)\n",
    "hNorm.sample((3,))"
   ]
  },
  {
   "cell_type": "markdown",
   "metadata": {},
   "source": [
    "## 2.17 拉普拉斯分布 Laplace Distribution"
   ]
  },
  {
   "cell_type": "code",
   "execution_count": 69,
   "metadata": {},
   "outputs": [
    {
     "data": {
      "text/plain": [
       "tensor([-0.0419, -0.2101,  0.0024])"
      ]
     },
     "execution_count": 69,
     "metadata": {},
     "output_type": "execute_result"
    }
   ],
   "source": [
    "lap=distributions.laplace.Laplace(0,0.5)\n",
    "lap.sample((3,))"
   ]
  },
  {
   "cell_type": "code",
   "execution_count": 70,
   "metadata": {},
   "outputs": [
    {
     "data": {
      "text/plain": [
       "tensor(0.)"
      ]
     },
     "execution_count": 70,
     "metadata": {},
     "output_type": "execute_result"
    }
   ],
   "source": [
    "lap.mean"
   ]
  },
  {
   "cell_type": "code",
   "execution_count": 71,
   "metadata": {},
   "outputs": [
    {
     "data": {
      "text/plain": [
       "tensor(0.5000)"
      ]
     },
     "execution_count": 71,
     "metadata": {},
     "output_type": "execute_result"
    }
   ],
   "source": [
    "lap.variance"
   ]
  },
  {
   "cell_type": "code",
   "execution_count": 72,
   "metadata": {},
   "outputs": [
    {
     "data": {
      "text/plain": [
       "tensor(0.5000)"
      ]
     },
     "execution_count": 72,
     "metadata": {},
     "output_type": "execute_result"
    }
   ],
   "source": [
    "lap.cdf(0)"
   ]
  },
  {
   "cell_type": "markdown",
   "metadata": {},
   "source": [
    "## 2.18 对数正太分布 LogNormal Distribution"
   ]
  },
  {
   "cell_type": "code",
   "execution_count": 73,
   "metadata": {},
   "outputs": [
    {
     "data": {
      "text/plain": [
       "tensor([0.3765, 0.0614, 0.0091])"
      ]
     },
     "execution_count": 73,
     "metadata": {},
     "output_type": "execute_result"
    }
   ],
   "source": [
    "logNormal=distributions.log_normal.LogNormal(0,2)\n",
    "logNormal.sample((3,))"
   ]
  },
  {
   "cell_type": "code",
   "execution_count": 74,
   "metadata": {},
   "outputs": [
    {
     "data": {
      "text/plain": [
       "tensor(7.3891)"
      ]
     },
     "execution_count": 74,
     "metadata": {},
     "output_type": "execute_result"
    }
   ],
   "source": [
    "logNormal.mean"
   ]
  },
  {
   "cell_type": "markdown",
   "metadata": {},
   "source": [
    "## 2.19 多项分布 Multinomial Distribution\n",
    "\n",
    "\n",
    "__它是二项分布 binominal distribution的推广.__\n",
    "\n",
    "\n",
    "\n",
    "$x={x_{1},x_{2},...,x_{k}}$, x的分量采用one-of-k的方式（即2.22的OneHot形式）表示：\n",
    "\n",
    "且$x_{k}=0或1,\\sum_{k}^{K}x_{k}=1$，即x的分量中只有一个为1，其他都为0. 且$p(x_{k}) = u_{k},u_{k}\\ge 0, \\sum_{k}^{K}u_{k}=1$\n",
    "\n",
    "则：\n",
    "$p(x \\mid u)=\\prod_{k}^{K}u_{k}^{x_{k}}$，这就是  __范畴分布 categorical distribution的概率分布.__\n",
    "\n",
    "那么N个样本的数据集：$x_{1},x_{2},..x_{n}$的似然函数为：\n",
    "\n",
    "$p(D \\mid u) = \\prod_{k}^{K}u_{k}^{m_{k}}，其中m_{k}=\\sum_{n}^{N}x_{nk}$\n",
    "\n",
    "\n",
    "那么Multinomial Distribution定义为：\n",
    "\n",
    "$Mult(m_{1},m_{2},...,m_{k} \\mid N,u) = \\frac{N!}{m_{1}!m_{2}!...m_{k}!}\\prod_{k}^{K}u_{k}^{m_{k}}$，这是  __多项分布 multinomial distribution的概率分布.__\n",
    "\n",
    "其中，$\\sum_{k}^{K}m_{k}=N$\n",
    "\n",
    "这个和上面的范畴分布区别，这里需要给出试验次数为参数. \n",
    "对比 2.6\n",
    "\n",
    "\n",
    "__注意：输入的概率张量，不要求和为1，只要求非负. 它内部会归一化处理__"
   ]
  },
  {
   "cell_type": "code",
   "execution_count": 87,
   "metadata": {},
   "outputs": [
    {
     "data": {
      "text/plain": [
       "tensor([[3., 7., 0.],\n",
       "        [3., 7., 0.],\n",
       "        [1., 7., 2.],\n",
       "        [1., 8., 1.],\n",
       "        [1., 9., 0.]])"
      ]
     },
     "execution_count": 87,
     "metadata": {},
     "output_type": "execute_result"
    }
   ],
   "source": [
    "multn=distributions.multinomial.Multinomial(10,torch.tensor([2.4,6.5,0.3]))\n",
    "multn.sample((5,))"
   ]
  },
  {
   "cell_type": "markdown",
   "metadata": {},
   "source": [
    "## 2.20 多变量的正太分布 MultivariateNormal Distribution\n",
    "\n",
    "输入参数为均值向量与协方差矩阵."
   ]
  },
  {
   "cell_type": "code",
   "execution_count": 89,
   "metadata": {
    "collapsed": true
   },
   "outputs": [],
   "source": [
    "mean=torch.zeros(2)\n",
    "std=torch.eye(2)\n",
    "mn=distributions.multivariate_normal.MultivariateNormal(mean,std)"
   ]
  },
  {
   "cell_type": "code",
   "execution_count": 90,
   "metadata": {},
   "outputs": [
    {
     "data": {
      "text/plain": [
       "tensor([[-1.1859, -0.4758],\n",
       "        [-1.2784, -0.6580],\n",
       "        [-1.6796, -0.1345]])"
      ]
     },
     "execution_count": 90,
     "metadata": {},
     "output_type": "execute_result"
    }
   ],
   "source": [
    "mn.sample((3,))"
   ]
  },
  {
   "cell_type": "markdown",
   "metadata": {},
   "source": [
    "## 2.21 正太分布 Normal Distribution"
   ]
  },
  {
   "cell_type": "code",
   "execution_count": 91,
   "metadata": {},
   "outputs": [
    {
     "data": {
      "text/plain": [
       "tensor([-1.4638,  0.8199, -0.9868])"
      ]
     },
     "execution_count": 91,
     "metadata": {},
     "output_type": "execute_result"
    }
   ],
   "source": [
    "norm=distributions.normal.Normal(0,1)\n",
    "norm.sample((3,))"
   ]
  },
  {
   "cell_type": "markdown",
   "metadata": {},
   "source": [
    "## 2.22 OneHot Categorical 分布\n",
    "\n",
    "生成 one-of-k 样本的分布\n",
    "\n",
    "__注意：输入的概率张量，不要求和为1，只要求非负. 它内部会归一化处理__"
   ]
  },
  {
   "cell_type": "code",
   "execution_count": 92,
   "metadata": {},
   "outputs": [
    {
     "data": {
      "text/plain": [
       "tensor([[1., 0., 0., 0.],\n",
       "        [0., 0., 0., 1.],\n",
       "        [0., 1., 0., 0.]])"
      ]
     },
     "execution_count": 92,
     "metadata": {},
     "output_type": "execute_result"
    }
   ],
   "source": [
    "oh=distributions.one_hot_categorical.OneHotCategorical(torch.tensor([0.3,0.4,0.2,0.1]))\n",
    "oh.sample((3,))"
   ]
  },
  {
   "cell_type": "markdown",
   "metadata": {},
   "source": [
    "## 2.23 帕累托分布 Pareto Distribution\n",
    "\n",
    "见： https://pytorch.org/docs/stable/distributions.html#torch.distributions.pareto.Pareto"
   ]
  },
  {
   "cell_type": "markdown",
   "metadata": {},
   "source": [
    "## 2.24 泊松分布 Possion Distribution"
   ]
  },
  {
   "cell_type": "code",
   "execution_count": 93,
   "metadata": {},
   "outputs": [
    {
     "data": {
      "text/plain": [
       "tensor(2.)"
      ]
     },
     "execution_count": 93,
     "metadata": {},
     "output_type": "execute_result"
    }
   ],
   "source": [
    "poi=distributions.poisson.Poisson(2)\n",
    "poi.mean"
   ]
  },
  {
   "cell_type": "code",
   "execution_count": 94,
   "metadata": {},
   "outputs": [
    {
     "data": {
      "text/plain": [
       "tensor(2.)"
      ]
     },
     "execution_count": 94,
     "metadata": {},
     "output_type": "execute_result"
    }
   ],
   "source": [
    "poi.variance"
   ]
  },
  {
   "cell_type": "code",
   "execution_count": 95,
   "metadata": {},
   "outputs": [
    {
     "data": {
      "text/plain": [
       "tensor([0., 1., 4.])"
      ]
     },
     "execution_count": 95,
     "metadata": {},
     "output_type": "execute_result"
    }
   ],
   "source": [
    "poi.sample((3,))"
   ]
  },
  {
   "cell_type": "markdown",
   "metadata": {},
   "source": [
    "## 2.25 RelaxedBernoulli 分布\n",
    "\n",
    "见：https://pytorch.org/docs/stable/distributions.html#torch.distributions.relaxed_bernoulli.RelaxedBernoulli"
   ]
  },
  {
   "cell_type": "markdown",
   "metadata": {},
   "source": [
    "## 2.26 RelaxedOneHotCategorical\n",
    "\n",
    "见：https://pytorch.org/docs/stable/distributions.html#torch.distributions.relaxed_categorical.RelaxedOneHotCategorical"
   ]
  },
  {
   "cell_type": "markdown",
   "metadata": {},
   "source": [
    "## 2.27 t分布\n",
    "\n",
    "- 第一个参数df为自由度"
   ]
  },
  {
   "cell_type": "code",
   "execution_count": 96,
   "metadata": {},
   "outputs": [
    {
     "data": {
      "text/plain": [
       "tensor([2.4505, 1.8551, 0.7435])"
      ]
     },
     "execution_count": 96,
     "metadata": {},
     "output_type": "execute_result"
    }
   ],
   "source": [
    "td=distributions.studentT.StudentT(3)\n",
    "td.sample((3,))"
   ]
  },
  {
   "cell_type": "markdown",
   "metadata": {},
   "source": [
    "## 2.28 分布变换\n",
    "\n",
    "即对基本分布施加特定的变换，生成新的分布.\n",
    "\n",
    "以下分布都是经过变换生成的新的分布：\n",
    "\n",
    "- Gumbel\n",
    "\n",
    "- HalfCauchy\n",
    "\n",
    "- HalfNormal\n",
    "\n",
    "- LogNormal\n",
    "\n",
    "- Pareto\n",
    "\n",
    "- RelaxedBernoulli\n",
    "\n",
    "- RelaxedOneHotCategorial"
   ]
  },
  {
   "cell_type": "markdown",
   "metadata": {},
   "source": [
    "### 示例：对均匀分布施加sigmoid变换+仿射变换，形成Logistic分布"
   ]
  },
  {
   "cell_type": "code",
   "execution_count": 98,
   "metadata": {
    "collapsed": true
   },
   "outputs": [],
   "source": [
    "base_distribution=distributions.uniform.Uniform(0,1)\n",
    "transfroms=[distributions.transforms.SigmoidTransform().inv,distributions.transforms.AffineTransform(2,3)]\n",
    "logistic=distributions.transformed_distribution.TransformedDistribution(base_distribution,transfroms)\n"
   ]
  },
  {
   "cell_type": "code",
   "execution_count": 99,
   "metadata": {},
   "outputs": [
    {
     "data": {
      "text/plain": [
       "tensor([1.7891, 7.8242, 1.8971])"
      ]
     },
     "execution_count": 99,
     "metadata": {},
     "output_type": "execute_result"
    }
   ],
   "source": [
    "logistic.sample((3,))"
   ]
  },
  {
   "cell_type": "markdown",
   "metadata": {},
   "source": [
    "## 2.29 均匀分布\n",
    "\n",
    "略."
   ]
  },
  {
   "cell_type": "markdown",
   "metadata": {},
   "source": [
    "# 3. KL 散度\n",
    "\n",
    "\n",
    "## 3.1 计算两个分布的KL散度\n",
    "计算两个分布的KL散度，即：\n",
    "\n",
    "$KL(p\\mid \\mid q) = \\int p(x) \\log \\frac{p(x)}{q(x)}$\n",
    "\n",
    "输入的p和q，需要为Distribution对象."
   ]
  },
  {
   "cell_type": "code",
   "execution_count": 100,
   "metadata": {},
   "outputs": [
    {
     "data": {
      "text/plain": [
       "tensor(3.2258)"
      ]
     },
     "execution_count": 100,
     "metadata": {},
     "output_type": "execute_result"
    }
   ],
   "source": [
    "##计算指数分布与正太分布的KL散度\n",
    "expon=distributions.exponential.Exponential(0.5)\n",
    "norm=distributions.normal.Normal(0,1)\n",
    "distributions.kl.kl_divergence(expon,norm)"
   ]
  },
  {
   "cell_type": "code",
   "execution_count": 101,
   "metadata": {},
   "outputs": [
    {
     "data": {
      "text/plain": [
       "tensor(inf)"
      ]
     },
     "execution_count": 101,
     "metadata": {},
     "output_type": "execute_result"
    }
   ],
   "source": [
    "distributions.kl.kl_divergence(norm,expon)"
   ]
  },
  {
   "cell_type": "code",
   "execution_count": 102,
   "metadata": {},
   "outputs": [
    {
     "data": {
      "text/plain": [
       "tensor(0.)"
      ]
     },
     "execution_count": 102,
     "metadata": {},
     "output_type": "execute_result"
    }
   ],
   "source": [
    "distributions.kl.kl_divergence(norm,norm)"
   ]
  },
  {
   "cell_type": "markdown",
   "metadata": {},
   "source": [
    "## 3.2 注册KL散度计算的装饰器\n",
    "\n",
    "见：https://pytorch.org/docs/stable/distributions.html#torch.distributions.kl.register_kl"
   ]
  },
  {
   "cell_type": "markdown",
   "metadata": {},
   "source": [
    "# 4. 变换\n",
    "\n",
    "- transforms.Transform ：变换的抽象基类\n",
    "\n",
    "\n",
    "- transforms.ComposeTransform：组合变换类\n",
    "\n",
    "\n",
    "- transforms.ExpTransform：指数变换类\n",
    "\n",
    "\n",
    "- transforms.PowerTransform：幂变换类\n",
    "\n",
    "\n",
    "- transforms.SigmoidTransform：Sigmoid变换类\n",
    "\n",
    "\n",
    "- transforms.AbsTransform： 绝对值变换类\n",
    "\n",
    "\n",
    "- transforms.AffineTransform：仿射变换类\n",
    "\n",
    "\n",
    "- transforms.SoftmaxTransform：softmax变换类\n",
    "\n",
    "\n",
    "- transforms.StickBreakingTransform：\n",
    "\n",
    "\n",
    "- transforms.LowerCholeskyTransform"
   ]
  },
  {
   "cell_type": "markdown",
   "metadata": {},
   "source": [
    "# 5. 约束 Constraints\n",
    "\n",
    "constraints.Constraint: 约束对象的抽象基类. 约束对象表示了一片区域，在这片区域上变量是有效的，因而可以进行优化.\n",
    "\n",
    "见：https://pytorch.org/docs/stable/distributions.html#module-torch.distributions.constraints"
   ]
  },
  {
   "cell_type": "markdown",
   "metadata": {},
   "source": [
    "# 6. 约束注册表 Constraint Registry\n",
    "\n",
    "Pytorch提供了两个链接Constraint对象和Transform对象的Constraint Registry 对象.\n",
    "\n",
    "这些对象均要求constraints输入，并返回 trnaforms，但是在双射性方面有不同的保证.\n",
    "\n",
    "见：https://pytorch.org/docs/stable/distributions.html#module-torch.distributions.constraint_registry"
   ]
  },
  {
   "cell_type": "code",
   "execution_count": null,
   "metadata": {
    "collapsed": true
   },
   "outputs": [],
   "source": []
  }
 ],
 "metadata": {
  "kernelspec": {
   "display_name": "Python 3",
   "language": "python",
   "name": "python3"
  },
  "language_info": {
   "codemirror_mode": {
    "name": "ipython",
    "version": 3
   },
   "file_extension": ".py",
   "mimetype": "text/x-python",
   "name": "python",
   "nbconvert_exporter": "python",
   "pygments_lexer": "ipython3",
   "version": "3.6.1"
  }
 },
 "nbformat": 4,
 "nbformat_minor": 2
}
